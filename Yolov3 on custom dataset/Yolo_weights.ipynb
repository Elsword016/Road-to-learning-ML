{
  "nbformat": 4,
  "nbformat_minor": 0,
  "metadata": {
    "colab": {
      "name": "Yolo_weights",
      "provenance": []
    },
    "kernelspec": {
      "name": "python3",
      "display_name": "Python 3"
    },
    "accelerator": "GPU"
  },
  "cells": [
    {
      "cell_type": "code",
      "metadata": {
        "id": "stiEMLnsXiJa"
      },
      "source": [
        "!unzip /content/drive/MyDrive/darknet.zip"
      ],
      "execution_count": null,
      "outputs": []
    },
    {
      "cell_type": "code",
      "metadata": {
        "id": "ldmRpINSXleE"
      },
      "source": [
        "%cd /content/darknet\r\n",
        "!make\r\n",
        "! chmod +x ./darknet"
      ],
      "execution_count": null,
      "outputs": []
    },
    {
      "cell_type": "code",
      "metadata": {
        "id": "8Zt3JTeSX8JO"
      },
      "source": [
        "!sudo apt install dos2unix"
      ],
      "execution_count": null,
      "outputs": []
    },
    {
      "cell_type": "code",
      "metadata": {
        "id": "5P2oJlrCYUjM"
      },
      "source": [
        "\r\n",
        "!dos2unix ./data/train.txt\r\n",
        "!dos2unix ./data/val.txt\r\n",
        "!dos2unix ./data/yolo.data\r\n",
        "!dos2unix ./data/yolo.names\r\n",
        "!dos2unix ./cfg/yolov3_custom_train.cfg"
      ],
      "execution_count": null,
      "outputs": []
    },
    {
      "cell_type": "code",
      "metadata": {
        "id": "hg8wulW4b-6M",
        "colab": {
          "base_uri": "https://localhost:8080/"
        },
        "outputId": "94e27cab-c9be-4254-98e4-eb363164cae1"
      },
      "source": [
        "!rm /content/darknet/backup -r\r\n",
        "!ln -s /content/drive/My Drive/YOLOv3_weight/backup /content/darknet"
      ],
      "execution_count": null,
      "outputs": [
        {
          "output_type": "stream",
          "text": [
            "ln: failed to create symbolic link '/content/darknet/My': File exists\n"
          ],
          "name": "stdout"
        }
      ]
    },
    {
      "cell_type": "code",
      "metadata": {
        "id": "bE50V1b2Ybhc"
      },
      "source": [
        "import numpy as np\r\n",
        "import time\r\n",
        "import cv2\r\n",
        "import os\r\n",
        "import matplotlib.pyplot as plt\r\n",
        "%matplotlib inline"
      ],
      "execution_count": null,
      "outputs": []
    },
    {
      "cell_type": "code",
      "metadata": {
        "id": "loN9Khg-lnT5"
      },
      "source": [
        "def display_img(img,cmap=None):\r\n",
        "    fig = plt.figure(figsize = (12,12))\r\n",
        "    plt.axis(False)\r\n",
        "    ax = fig.add_subplot(111)\r\n",
        "    ax.imshow(img,cmap)\r\n",
        "    "
      ],
      "execution_count": null,
      "outputs": []
    },
    {
      "cell_type": "code",
      "metadata": {
        "id": "JxqhLdpvlqGU"
      },
      "source": [
        "labelsPath = os.path.join(\"/content/darknet/data/yolo.names\")\r\n",
        "LABELS = open(labelsPath).read().strip().split(\"\\n\")"
      ],
      "execution_count": null,
      "outputs": []
    },
    {
      "cell_type": "code",
      "metadata": {
        "colab": {
          "base_uri": "https://localhost:8080/"
        },
        "id": "DHxLV4wKlstU",
        "outputId": "4ea71c2f-b3e2-4c91-9bd2-3a6172780d6b"
      },
      "source": [
        "LABELS"
      ],
      "execution_count": null,
      "outputs": [
        {
          "output_type": "execute_result",
          "data": {
            "text/plain": [
              "['guns']"
            ]
          },
          "metadata": {
            "tags": []
          },
          "execution_count": 11
        }
      ]
    },
    {
      "cell_type": "code",
      "metadata": {
        "id": "TKC447BvzVPr"
      },
      "source": [
        "weightsPath = os.path.join(\"yolov3_custom_train_900.weights\")\n",
        "configPath = os.path.join(\"yolov3_custom_test.cfg\")"
      ],
      "execution_count": null,
      "outputs": []
    },
    {
      "cell_type": "code",
      "metadata": {
        "id": "5BJTE49I5Okw"
      },
      "source": [
        "net = cv2.dnn.readNetFromDarknet(configPath,weightsPath)"
      ],
      "execution_count": null,
      "outputs": []
    },
    {
      "cell_type": "code",
      "metadata": {
        "id": "NaHkD28R5RPr"
      },
      "source": [
        ""
      ],
      "execution_count": null,
      "outputs": []
    }
  ]
}