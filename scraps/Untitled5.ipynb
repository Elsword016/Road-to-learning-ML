{
  "nbformat": 4,
  "nbformat_minor": 0,
  "metadata": {
    "colab": {
      "name": "Untitled5.ipynb",
      "provenance": []
    },
    "kernelspec": {
      "name": "python3",
      "display_name": "Python 3"
    }
  },
  "cells": [
    {
      "cell_type": "code",
      "metadata": {
        "id": "0gMrt4IuAVk8"
      },
      "source": [
        "!pip install nmrglue"
      ],
      "execution_count": null,
      "outputs": []
    },
    {
      "cell_type": "code",
      "metadata": {
        "id": "oL2ZsRZnmrmM"
      },
      "source": [
        "import nmrglue as ng\n",
        "import numpy as np\n",
        "import matplotlib.pyplot as plt\n",
        "%matplotlib inline\n"
      ],
      "execution_count": null,
      "outputs": []
    },
    {
      "cell_type": "code",
      "metadata": {
        "id": "AKin_65hnnO1"
      },
      "source": [
        "fid = '/content/EtPh_1H_NMR_CDCl3.fid'"
      ],
      "execution_count": null,
      "outputs": []
    },
    {
      "cell_type": "code",
      "metadata": {
        "id": "ATBEAl_4nLHm"
      },
      "source": [
        "dic,data = ng.pipe.read('/content/EtPh_1H_NMR_CDCl3.fid')"
      ],
      "execution_count": null,
      "outputs": []
    },
    {
      "cell_type": "code",
      "metadata": {
        "id": "c8JrS0rBnry3",
        "colab": {
          "base_uri": "https://localhost:8080/",
          "height": 69
        },
        "outputId": "bb5e942a-5b13-4b7f-b7dd-1ac7fc924145"
      },
      "source": [
        "data"
      ],
      "execution_count": null,
      "outputs": [
        {
          "output_type": "execute_result",
          "data": {
            "text/plain": [
              "array([-0.00194889-0.00471539j, -0.00192186-0.00472489j,\n",
              "       -0.00191337-0.00473085j, ..., -0.00189737+0.00591656j,\n",
              "       -0.00191882+0.005872j  , -0.00191135+0.00587132j], dtype=complex64)"
            ]
          },
          "metadata": {
            "tags": []
          },
          "execution_count": 18
        }
      ]
    },
    {
      "cell_type": "code",
      "metadata": {
        "id": "c1d3m-a0oCMm"
      },
      "source": [
        "udic = ng.pipe.guess_udic(dic,data)"
      ],
      "execution_count": null,
      "outputs": []
    },
    {
      "cell_type": "code",
      "metadata": {
        "id": "2gIUVlmioRh2",
        "colab": {
          "base_uri": "https://localhost:8080/",
          "height": 191
        },
        "outputId": "f588dfad-9cb5-453b-ca89-b8cd1e4f3efb"
      },
      "source": [
        "udic"
      ],
      "execution_count": null,
      "outputs": [
        {
          "output_type": "execute_result",
          "data": {
            "text/plain": [
              "{0: {'car': 1998.9109802246094,\n",
              "  'complex': True,\n",
              "  'encoding': 'direct',\n",
              "  'freq': True,\n",
              "  'label': 'Proton',\n",
              "  'obs': 399.7821960449219,\n",
              "  'size': 13107,\n",
              "  'sw': 5994.65478515625,\n",
              "  'time': False},\n",
              " 'ndim': 1}"
            ]
          },
          "metadata": {
            "tags": []
          },
          "execution_count": 20
        }
      ]
    },
    {
      "cell_type": "code",
      "metadata": {
        "id": "y62QjvRooSiW",
        "colab": {
          "base_uri": "https://localhost:8080/",
          "height": 34
        },
        "outputId": "a2f9c532-6c15-4a31-c4d8-05c849f13d92"
      },
      "source": [
        "udic[0]['time']"
      ],
      "execution_count": null,
      "outputs": [
        {
          "output_type": "execute_result",
          "data": {
            "text/plain": [
              "False"
            ]
          },
          "metadata": {
            "tags": []
          },
          "execution_count": 16
        }
      ]
    },
    {
      "cell_type": "code",
      "metadata": {
        "id": "NcjpdS8_oaCY"
      },
      "source": [
        "from scipy.fft import fft\n",
        "fdata = fft(data)"
      ],
      "execution_count": null,
      "outputs": []
    },
    {
      "cell_type": "code",
      "metadata": {
        "id": "26TnpbDUo1ZX",
        "colab": {
          "base_uri": "https://localhost:8080/",
          "height": 391
        },
        "outputId": "1abc8a3c-c0c1-4989-dcd9-939fee8223d1"
      },
      "source": [
        "fig1 = plt.figure(figsize=(16,6))\n",
        "ax1 = fig1.add_subplot(1,1,1)\n",
        "ax1.plot(data.real)"
      ],
      "execution_count": null,
      "outputs": [
        {
          "output_type": "execute_result",
          "data": {
            "text/plain": [
              "[<matplotlib.lines.Line2D at 0x7efcc3252ac8>]"
            ]
          },
          "metadata": {
            "tags": []
          },
          "execution_count": 23
        },
        {
          "output_type": "display_data",
          "data": {
            "image/png": "[encoded data removed]",
            "text/plain": [
              "<Figure size 1152x432 with 1 Axes>"
            ]
          },
          "metadata": {
            "tags": [],
            "needs_background": "light"
          }
        }
      ]
    },
    {
      "cell_type": "code",
      "metadata": {
        "id": "f9sqIYrYo8em"
      },
      "source": [
        ""
      ],
      "execution_count": null,
      "outputs": []
    }
  ]
}