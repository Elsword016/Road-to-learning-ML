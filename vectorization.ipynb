{
  "nbformat": 4,
  "nbformat_minor": 0,
  "metadata": {
    "colab": {
      "name": "vectorization",
      "provenance": []
    },
    "kernelspec": {
      "name": "python3",
      "display_name": "Python 3"
    }
  },
  "cells": [
    {
      "cell_type": "code",
      "metadata": {
        "id": "aEOcYwhRxIzB"
      },
      "source": [
        "#vectorization with python\n",
        "import numpy as np\n",
        "#z = np.dot(w,x)+b    #computes wTx+b directly without any for loop\n",
        "\n",
        "a= np.array([1,2,3,4])\n"
      ],
      "execution_count": null,
      "outputs": []
    },
    {
      "cell_type": "code",
      "metadata": {
        "id": "0ouI564Zx6Dd"
      },
      "source": [
        "#comparison between vectorized and non-vectorized code demo\n",
        "import time\n",
        "import numpy as np\n",
        "a = np.random.rand(1000000)\n",
        "b = np.random.rand(1000000)\n",
        "tic = time.time()\n",
        "z = np.dot(a,b)\n",
        "toc = time.time()\n",
        "print(\"Vectorized Time\" +str(1000*(toc-tic))+\"ms\")\n",
        "print(z)\n",
        "c = 0\n",
        "start = time.time()\n",
        "for i in range(1000000):\n",
        "  c+=a[i]+b[i]\n",
        "stop =time.time()\n",
        "print(c)\n",
        "print(\"non-vector time\" +str(1000*(stop-start))+\"ms\")"
      ],
      "execution_count": null,
      "outputs": []
    },
    {
      "cell_type": "code",
      "metadata": {
        "id": "8dP30bk0ytCV"
      },
      "source": [
        "#vectorizing logistic regression"
      ],
      "execution_count": null,
      "outputs": []
    }
  ]
}