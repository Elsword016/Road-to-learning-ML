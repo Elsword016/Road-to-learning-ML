{
  "nbformat": 4,
  "nbformat_minor": 0,
  "metadata": {
    "colab": {
      "name": "Data_viz",
      "provenance": []
    },
    "kernelspec": {
      "name": "python3",
      "display_name": "Python 3"
    }
  },
  "cells": [
    {
      "cell_type": "code",
      "metadata": {
        "id": "v4IOviLckI7c"
      },
      "source": [
        "#estimatiion statistics\n",
        "!git clone \"https://github.com/ACCLAB/DABEST-python.git\""
      ],
      "execution_count": null,
      "outputs": []
    },
    {
      "cell_type": "code",
      "metadata": {
        "id": "2cx41sm0nApq"
      },
      "source": [
        "!pip install --upgrade dabest"
      ],
      "execution_count": null,
      "outputs": []
    },
    {
      "cell_type": "code",
      "metadata": {
        "id": "AUNVNLJYmp1p"
      },
      "source": [
        "import dabest\n",
        "import pandas as pd\n",
        "import numpy as np\n",
        "import matplotlib.pyplot as plt\n",
        "plt.style.use(\"ggplot\")"
      ],
      "execution_count": 14,
      "outputs": []
    },
    {
      "cell_type": "code",
      "metadata": {
        "colab": {
          "base_uri": "https://localhost:8080/",
          "height": 204
        },
        "id": "Pbo-CmhSm8qe",
        "outputId": "237c3424-3223-43e6-ca20-8ea3f791987b"
      },
      "source": [
        "df = pd.read_csv('/content/data.csv')\n",
        "df.head()"
      ],
      "execution_count": 2,
      "outputs": [
        {
          "output_type": "execute_result",
          "data": {
            "text/html": [
              "<div>\n",
              "<style scoped>\n",
              "    .dataframe tbody tr th:only-of-type {\n",
              "        vertical-align: middle;\n",
              "    }\n",
              "\n",
              "    .dataframe tbody tr th {\n",
              "        vertical-align: top;\n",
              "    }\n",
              "\n",
              "    .dataframe thead th {\n",
              "        text-align: right;\n",
              "    }\n",
              "</style>\n",
              "<table border=\"1\" class=\"dataframe\">\n",
              "  <thead>\n",
              "    <tr style=\"text-align: right;\">\n",
              "      <th></th>\n",
              "      <th>Glu_4hr</th>\n",
              "      <th>Glu_24hr</th>\n",
              "      <th>Glu_60hr</th>\n",
              "      <th>GABA_4h</th>\n",
              "      <th>GABA_24h</th>\n",
              "      <th>GABA_60h</th>\n",
              "      <th>Gln_4h</th>\n",
              "      <th>Gln_24h</th>\n",
              "      <th>Gln_60h</th>\n",
              "    </tr>\n",
              "  </thead>\n",
              "  <tbody>\n",
              "    <tr>\n",
              "      <th>0</th>\n",
              "      <td>15.8</td>\n",
              "      <td>12.0</td>\n",
              "      <td>11.9</td>\n",
              "      <td>2.9</td>\n",
              "      <td>2.5</td>\n",
              "      <td>2.4</td>\n",
              "      <td>6.1</td>\n",
              "      <td>4.6</td>\n",
              "      <td>4.7</td>\n",
              "    </tr>\n",
              "    <tr>\n",
              "      <th>1</th>\n",
              "      <td>15.2</td>\n",
              "      <td>12.9</td>\n",
              "      <td>12.4</td>\n",
              "      <td>2.6</td>\n",
              "      <td>2.4</td>\n",
              "      <td>2.2</td>\n",
              "      <td>5.8</td>\n",
              "      <td>4.5</td>\n",
              "      <td>4.6</td>\n",
              "    </tr>\n",
              "    <tr>\n",
              "      <th>2</th>\n",
              "      <td>14.9</td>\n",
              "      <td>11.2</td>\n",
              "      <td>11.8</td>\n",
              "      <td>2.5</td>\n",
              "      <td>2.4</td>\n",
              "      <td>2.4</td>\n",
              "      <td>5.3</td>\n",
              "      <td>4.4</td>\n",
              "      <td>4.5</td>\n",
              "    </tr>\n",
              "    <tr>\n",
              "      <th>3</th>\n",
              "      <td>11.7</td>\n",
              "      <td>12.0</td>\n",
              "      <td>12.2</td>\n",
              "      <td>2.5</td>\n",
              "      <td>2.3</td>\n",
              "      <td>2.5</td>\n",
              "      <td>4.5</td>\n",
              "      <td>4.4</td>\n",
              "      <td>4.9</td>\n",
              "    </tr>\n",
              "    <tr>\n",
              "      <th>4</th>\n",
              "      <td>12.4</td>\n",
              "      <td>12.7</td>\n",
              "      <td>11.5</td>\n",
              "      <td>2.5</td>\n",
              "      <td>2.3</td>\n",
              "      <td>2.2</td>\n",
              "      <td>4.7</td>\n",
              "      <td>4.5</td>\n",
              "      <td>4.4</td>\n",
              "    </tr>\n",
              "  </tbody>\n",
              "</table>\n",
              "</div>"
            ],
            "text/plain": [
              "   Glu_4hr  Glu_24hr  Glu_60hr  GABA_4h  ...  GABA_60h  Gln_4h  Gln_24h  Gln_60h\n",
              "0     15.8      12.0      11.9      2.9  ...       2.4     6.1      4.6      4.7\n",
              "1     15.2      12.9      12.4      2.6  ...       2.2     5.8      4.5      4.6\n",
              "2     14.9      11.2      11.8      2.5  ...       2.4     5.3      4.4      4.5\n",
              "3     11.7      12.0      12.2      2.5  ...       2.5     4.5      4.4      4.9\n",
              "4     12.4      12.7      11.5      2.5  ...       2.2     4.7      4.5      4.4\n",
              "\n",
              "[5 rows x 9 columns]"
            ]
          },
          "metadata": {
            "tags": []
          },
          "execution_count": 2
        }
      ]
    },
    {
      "cell_type": "code",
      "metadata": {
        "colab": {
          "base_uri": "https://localhost:8080/",
          "height": 204
        },
        "id": "7wIMmTrrnekX",
        "outputId": "3a64ba2d-75a3-41b3-82a9-0bf82c8ab9e6"
      },
      "source": [
        "df1  = df.drop(['Glu_60hr','GABA_4h','GABA_24h','GABA_60h','Gln_4h','Gln_24h','Gln_60h'],axis=1)\n",
        "df1.head()"
      ],
      "execution_count": 3,
      "outputs": [
        {
          "output_type": "execute_result",
          "data": {
            "text/html": [
              "<div>\n",
              "<style scoped>\n",
              "    .dataframe tbody tr th:only-of-type {\n",
              "        vertical-align: middle;\n",
              "    }\n",
              "\n",
              "    .dataframe tbody tr th {\n",
              "        vertical-align: top;\n",
              "    }\n",
              "\n",
              "    .dataframe thead th {\n",
              "        text-align: right;\n",
              "    }\n",
              "</style>\n",
              "<table border=\"1\" class=\"dataframe\">\n",
              "  <thead>\n",
              "    <tr style=\"text-align: right;\">\n",
              "      <th></th>\n",
              "      <th>Glu_4hr</th>\n",
              "      <th>Glu_24hr</th>\n",
              "    </tr>\n",
              "  </thead>\n",
              "  <tbody>\n",
              "    <tr>\n",
              "      <th>0</th>\n",
              "      <td>15.8</td>\n",
              "      <td>12.0</td>\n",
              "    </tr>\n",
              "    <tr>\n",
              "      <th>1</th>\n",
              "      <td>15.2</td>\n",
              "      <td>12.9</td>\n",
              "    </tr>\n",
              "    <tr>\n",
              "      <th>2</th>\n",
              "      <td>14.9</td>\n",
              "      <td>11.2</td>\n",
              "    </tr>\n",
              "    <tr>\n",
              "      <th>3</th>\n",
              "      <td>11.7</td>\n",
              "      <td>12.0</td>\n",
              "    </tr>\n",
              "    <tr>\n",
              "      <th>4</th>\n",
              "      <td>12.4</td>\n",
              "      <td>12.7</td>\n",
              "    </tr>\n",
              "  </tbody>\n",
              "</table>\n",
              "</div>"
            ],
            "text/plain": [
              "   Glu_4hr  Glu_24hr\n",
              "0     15.8      12.0\n",
              "1     15.2      12.9\n",
              "2     14.9      11.2\n",
              "3     11.7      12.0\n",
              "4     12.4      12.7"
            ]
          },
          "metadata": {
            "tags": []
          },
          "execution_count": 3
        }
      ]
    },
    {
      "cell_type": "code",
      "metadata": {
        "colab": {
          "base_uri": "https://localhost:8080/"
        },
        "id": "kiIeRf4WojGJ",
        "outputId": "17fe7e54-332a-4589-8e7b-4e77c717e551"
      },
      "source": [
        "#dabest implementation\n",
        "stats = dabest.load(df1,idx=(\"Glu_4hr\",\"Glu_24hr\"))\n",
        "print(stats)"
      ],
      "execution_count": 4,
      "outputs": [
        {
          "output_type": "stream",
          "text": [
            "DABEST v0.3.1\n",
            "=============\n",
            "             \n",
            "Good morning!\n",
            "The current time is Sat Dec  5 11:39:54 2020.\n",
            "\n",
            "Effect size(s) with 95% confidence intervals will be computed for:\n",
            "1. Glu_24hr minus Glu_4hr\n",
            "\n",
            "5000 resamples will be used to generate the effect size bootstraps.\n"
          ],
          "name": "stdout"
        }
      ]
    },
    {
      "cell_type": "code",
      "metadata": {
        "colab": {
          "base_uri": "https://localhost:8080/"
        },
        "id": "AgZCXLerpJye",
        "outputId": "83329df2-75ff-4ce0-e48a-2f00a7b39f41"
      },
      "source": [
        "#t-test calculations\n",
        "stat_table = stats.mean_diff.statistical_tests\n",
        "print(stat_table)"
      ],
      "execution_count": 5,
      "outputs": [
        {
          "output_type": "stream",
          "text": [
            "   control      test  ...  pvalue_mann_whitney  statistic_mann_whitney\n",
            "0  Glu_4hr  Glu_24hr  ...             0.127538                    28.0\n",
            "\n",
            "[1 rows x 17 columns]\n"
          ],
          "name": "stdout"
        }
      ]
    },
    {
      "cell_type": "code",
      "metadata": {
        "colab": {
          "base_uri": "https://localhost:8080/"
        },
        "id": "FSeaYEWDsInM",
        "outputId": "ab955bbe-d3da-424d-d19f-4ccef1c1ef61"
      },
      "source": [
        "mean_df  =  stats.mean_diff\n",
        "print(mean_df)"
      ],
      "execution_count": 6,
      "outputs": [
        {
          "output_type": "stream",
          "text": [
            "DABEST v0.3.1\n",
            "=============\n",
            "             \n",
            "Good morning!\n",
            "The current time is Sat Dec  5 11:39:58 2020.\n",
            "\n",
            "The unpaired mean difference between Glu_4hr and Glu_24hr is -1.65 [95%CI -3.05, -0.267].\n",
            "The p-value of the two-sided permutation t-test is 0.08. \n",
            "\n",
            "5000 bootstrap samples were taken; the confidence interval is bias-corrected and accelerated.\n",
            "The p-value(s) reported are the likelihood(s) of observing the effect size(s),\n",
            "if the null hypothesis of zero difference is true.\n",
            "For each p-value, 5000 reshuffles of the control and test labels were performed.\n",
            "\n",
            "To get the results of all valid statistical tests, use `.mean_diff.statistical_tests`\n"
          ],
          "name": "stdout"
        }
      ]
    },
    {
      "cell_type": "code",
      "metadata": {
        "colab": {
          "base_uri": "https://localhost:8080/",
          "height": 406
        },
        "id": "NfOkrCtOrFiG",
        "outputId": "830a8550-d45e-4efa-a3b2-7ed5f1f4b6a2"
      },
      "source": [
        "#plotting the data\n",
        "viz  = mean_df.plot()"
      ],
      "execution_count": 15,
      "outputs": [
        {
          "output_type": "display_data",
          "data": {
            "image/png": "[encoded data removed]",
            "text/plain": [
              "<Figure size 500x400 with 2 Axes>"
            ]
          },
          "metadata": {
            "tags": []
          }
        }
      ]
    },
    {
      "cell_type": "code",
      "metadata": {
        "colab": {
          "base_uri": "https://localhost:8080/"
        },
        "id": "aqA7fxLLsxSO",
        "outputId": "9bc1f169-64de-4558-da4e-6d36d8e44d4a"
      },
      "source": [
        "cohen = stats.cohens_d\n",
        "print(cohen)"
      ],
      "execution_count": 16,
      "outputs": [
        {
          "output_type": "stream",
          "text": [
            "DABEST v0.3.1\n",
            "=============\n",
            "             \n",
            "Good morning!\n",
            "The current time is Sat Dec  5 11:46:50 2020.\n",
            "\n",
            "The unpaired Cohen's d between Glu_4hr and Glu_24hr is -1.22 [95%CI -2.77, -0.087].\n",
            "The p-value of the two-sided permutation t-test is 0.08. \n",
            "\n",
            "5000 bootstrap samples were taken; the confidence interval is bias-corrected and accelerated.\n",
            "The p-value(s) reported are the likelihood(s) of observing the effect size(s),\n",
            "if the null hypothesis of zero difference is true.\n",
            "For each p-value, 5000 reshuffles of the control and test labels were performed.\n",
            "\n",
            "To get the results of all valid statistical tests, use `.cohens_d.statistical_tests`\n"
          ],
          "name": "stdout"
        }
      ]
    },
    {
      "cell_type": "code",
      "metadata": {
        "colab": {
          "base_uri": "https://localhost:8080/",
          "height": 638
        },
        "id": "EUi5YEAYudXf",
        "outputId": "fecfad91-0dce-4059-c13b-d465d916eec2"
      },
      "source": [
        "cohen_plot = cohen.plot(float_contrast=False)"
      ],
      "execution_count": 17,
      "outputs": [
        {
          "output_type": "stream",
          "text": [
            "/usr/local/lib/python3.6/dist-packages/google/colab/_event_manager.py:28: UserWarning: This figure includes Axes that are not compatible with tight_layout, so results might be incorrect.\n",
            "  func(*args, **kwargs)\n",
            "/usr/local/lib/python3.6/dist-packages/IPython/core/pylabtools.py:125: UserWarning: This figure includes Axes that are not compatible with tight_layout, so results might be incorrect.\n",
            "  fig.canvas.print_figure(bytes_io, **kw)\n"
          ],
          "name": "stderr"
        },
        {
          "output_type": "display_data",
          "data": {
            "image/png": "[encoded data removed]",
            "text/plain": [
              "<Figure size 300x600 with 2 Axes>"
            ]
          },
          "metadata": {
            "tags": []
          }
        }
      ]
    },
    {
      "cell_type": "code",
      "metadata": {
        "id": "d3Dkg3Q-ujY-"
      },
      "source": [
        ""
      ],
      "execution_count": null,
      "outputs": []
    }
  ]
}