{
  "nbformat": 4,
  "nbformat_minor": 0,
  "metadata": {
    "colab": {
      "name": "Linear_regression with TensorFlow",
      "provenance": []
    },
    "kernelspec": {
      "name": "python3",
      "display_name": "Python 3"
    }
  },
  "cells": [
    {
      "cell_type": "code",
      "metadata": {
        "id": "N7Fzbox_J5Y9"
      },
      "source": [
        ""
      ],
      "execution_count": null,
      "outputs": []
    },
    {
      "cell_type": "code",
      "metadata": {
        "id": "BCwWaxEZ3NkL",
        "colab": {
          "base_uri": "https://localhost:8080/",
          "height": 282
        },
        "outputId": "eb2cdb89-b12e-4a59-af4c-63f14e5816b6"
      },
      "source": [
        "#linear_regression\n",
        "import tensorflow.compat.v1 as tf\n",
        "tf.disable_v2_behavior() \n",
        "import numpy as np\n",
        "import pandas as pd\n",
        "import matplotlib.pyplot as plt\n",
        "\n",
        "x_train = np.linspace(0,10,100)\n",
        "y_train = x_train + np.random.normal(0,1,100)\n",
        "alpha = 0.01\n",
        "iter = 1000\n",
        "m = len(x_train)\n",
        "X = tf.placeholder(tf.float32)\n",
        "Y = tf.placeholder(tf.float32)\n",
        "W = tf.Variable(np.random.randn(),name='weight')\n",
        "b = tf.Variable(np.random.randn(),name='bias')\n",
        "h = tf.add(tf.multiply(W,X),b)\n",
        "\n",
        "#define cost fn\n",
        "cost = tf.reduce_sum(tf.square(Y-h))/(2*m)\n",
        "optimize = tf.train.GradientDescentOptimizer(alpha).minimize(cost)  #gradient descent\n",
        "\n",
        "#tensorflow session\n",
        "sess = tf.Session()\n",
        "init = tf.global_variables_initializer()\n",
        "sess.run(init)\n",
        "\n",
        "for i in range(iter):\n",
        "  for (x,y) in zip(x_train,y_train):\n",
        "    sess.run(optimize,feed_dict={X:x,Y:y})\n",
        "\n",
        "W_final = sess.run(W)\n",
        "b_final = sess.run(b)\n",
        "sess.close()\n",
        "plt.plot(x_train,y_train,'o') #training set\n",
        "\n",
        "#fitting\n",
        "y = W_final*x_train+b_final\n",
        "plt.plot(x_train,y,'r')\n",
        "plt.show()"
      ],
      "execution_count": null,
      "outputs": [
        {
          "output_type": "execute_result",
          "data": {
            "text/plain": [
              "[<matplotlib.lines.Line2D at 0x7fca4fe5c9e8>]"
            ]
          },
          "metadata": {
            "tags": []
          },
          "execution_count": 11
        },
        {
          "output_type": "display_data",
          "data": {
            "image/png": "[encoded data removed]",
            "text/plain": [
              "<Figure size 432x288 with 1 Axes>"
            ]
          },
          "metadata": {
            "tags": [],
            "needs_background": "light"
          }
        }
      ]
    },
    {
      "cell_type": "code",
      "metadata": {
        "id": "e2TGheMFAKmq"
      },
      "source": [
        ""
      ],
      "execution_count": null,
      "outputs": []
    }
  ]
}