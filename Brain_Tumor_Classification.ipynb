{
  "nbformat": 4,
  "nbformat_minor": 0,
  "metadata": {
    "colab": {
      "name": "Brain_Tumor_Classification",
      "provenance": []
    },
    "kernelspec": {
      "name": "python3",
      "display_name": "Python 3"
    },
    "accelerator": "GPU"
  },
  "cells": [
    {
      "cell_type": "code",
      "metadata": {
        "id": "y8tv9U666Ppj",
        "colab_type": "code",
        "colab": {}
      },
      "source": [
        "!unzip tumor.zip"
      ],
      "execution_count": null,
      "outputs": []
    },
    {
      "cell_type": "code",
      "metadata": {
        "id": "hShYrHYi9dXl",
        "colab_type": "code",
        "colab": {}
      },
      "source": [
        "!pip install keras-tuner"
      ],
      "execution_count": null,
      "outputs": []
    },
    {
      "cell_type": "code",
      "metadata": {
        "id": "zKcrwqth671r",
        "colab_type": "code",
        "colab": {}
      },
      "source": [
        "import numpy as np\n",
        "import pandas as pd\n",
        "import keras \n",
        "from keras.layers import*\n",
        "from keras.callbacks import*\n",
        "from keras.models import*\n",
        "from keras.preprocessing import*\n",
        "import kerastuner as kt"
      ],
      "execution_count": 8,
      "outputs": []
    },
    {
      "cell_type": "code",
      "metadata": {
        "id": "hwe15zrA7eLj",
        "colab_type": "code",
        "colab": {}
      },
      "source": [
        "train_path = '/content/Brain Tumor Images Dataset/training_set'\n",
        "test_path = '/content/Brain Tumor Images Dataset/test_set'\n",
        "validation_path = '/content/Brain Tumor Images Dataset/validation_set'"
      ],
      "execution_count": 3,
      "outputs": []
    },
    {
      "cell_type": "code",
      "metadata": {
        "id": "6XDXTyl47nzz",
        "colab_type": "code",
        "colab": {}
      },
      "source": [
        "train_img = image.ImageDataGenerator(zoom_range=0.2,shear_range=0.2,horizontal_flip=True,rescale=1/255.0)\n",
        "test_img = image.ImageDataGenerator(rescale=1/255.0)\n",
        "val_img = image.ImageDataGenerator(rescale=1/255.0)"
      ],
      "execution_count": 5,
      "outputs": []
    },
    {
      "cell_type": "code",
      "metadata": {
        "id": "MNAQ2Ouk8W0L",
        "colab_type": "code",
        "colab": {
          "base_uri": "https://localhost:8080/",
          "height": 68
        },
        "outputId": "0526348e-4953-486f-8dc6-8d21f910577a"
      },
      "source": [
        "train = train_img.flow_from_directory('Brain Tumor Images Dataset/training_set',target_size=(224,224),class_mode='binary')\n",
        "test = test_img.flow_from_directory('Brain Tumor Images Dataset/test_set',target_size=(224,224),class_mode='binary')\n",
        "val = val_img.flow_from_directory('Brain Tumor Images Dataset/validation_set',target_size=(224,224),class_mode='binary')"
      ],
      "execution_count": 6,
      "outputs": [
        {
          "output_type": "stream",
          "text": [
            "Found 140 images belonging to 2 classes.\n",
            "Found 20 images belonging to 2 classes.\n",
            "Found 40 images belonging to 2 classes.\n"
          ],
          "name": "stdout"
        }
      ]
    },
    {
      "cell_type": "code",
      "metadata": {
        "id": "na6yXwBm8-nD",
        "colab_type": "code",
        "colab": {}
      },
      "source": [
        "model = Sequential()\n",
        "model.add(Conv2D(32, (3,3),input_shape=(224,224,3),activation='relu'))\n",
        "model.add(Conv2D(32,(3,3),activation='relu'))\n",
        "model.add(MaxPool2D(pool_size=(2,2)))\n",
        "model.add(Dropout(0.25))\n",
        "\n",
        "model.add(Conv2D(64,(3,3),activation='relu'))\n",
        "model.add(MaxPool2D(pool_size=(2,2)))\n",
        "model.add(Dropout(rate=0.25))\n",
        "\n",
        "model.add(Conv2D(64,(3,3),activation='relu'))\n",
        "model.add(MaxPool2D(pool_size=(2,2)))\n",
        "model.add(Dropout(rate=0.25))\n",
        "\n",
        "model.add(Conv2D(128,(3,3),activation='relu'))\n",
        "model.add(MaxPool2D(pool_size=(2,2)))\n",
        "model.add(Dropout(rate=0.25))\n",
        "\n",
        "model.add(Flatten())\n",
        "model.add(Dense(64,activation='relu'))\n",
        "model.add(Dropout(rate=0.5))\n",
        "model.add(Dense(1,activation='sigmoid'))\n",
        "\n",
        "model.compile(optimizer='adam',loss='binary_crossentropy',metrics=['accuracy'])"
      ],
      "execution_count": 55,
      "outputs": []
    },
    {
      "cell_type": "code",
      "metadata": {
        "id": "7xoVSrHZDgHI",
        "colab_type": "code",
        "colab": {
          "base_uri": "https://localhost:8080/",
          "height": 731
        },
        "outputId": "2821b3a7-6733-46d8-db4a-fbfb2f289d8c"
      },
      "source": [
        "model.summary()"
      ],
      "execution_count": 56,
      "outputs": [
        {
          "output_type": "stream",
          "text": [
            "Model: \"sequential_5\"\n",
            "_________________________________________________________________\n",
            "Layer (type)                 Output Shape              Param #   \n",
            "=================================================================\n",
            "conv2d_21 (Conv2D)           (None, 222, 222, 32)      896       \n",
            "_________________________________________________________________\n",
            "conv2d_22 (Conv2D)           (None, 220, 220, 32)      9248      \n",
            "_________________________________________________________________\n",
            "max_pooling2d_16 (MaxPooling (None, 110, 110, 32)      0         \n",
            "_________________________________________________________________\n",
            "dropout_20 (Dropout)         (None, 110, 110, 32)      0         \n",
            "_________________________________________________________________\n",
            "conv2d_23 (Conv2D)           (None, 108, 108, 64)      18496     \n",
            "_________________________________________________________________\n",
            "max_pooling2d_17 (MaxPooling (None, 54, 54, 64)        0         \n",
            "_________________________________________________________________\n",
            "dropout_21 (Dropout)         (None, 54, 54, 64)        0         \n",
            "_________________________________________________________________\n",
            "conv2d_24 (Conv2D)           (None, 52, 52, 64)        36928     \n",
            "_________________________________________________________________\n",
            "max_pooling2d_18 (MaxPooling (None, 26, 26, 64)        0         \n",
            "_________________________________________________________________\n",
            "dropout_22 (Dropout)         (None, 26, 26, 64)        0         \n",
            "_________________________________________________________________\n",
            "conv2d_25 (Conv2D)           (None, 24, 24, 128)       73856     \n",
            "_________________________________________________________________\n",
            "max_pooling2d_19 (MaxPooling (None, 12, 12, 128)       0         \n",
            "_________________________________________________________________\n",
            "dropout_23 (Dropout)         (None, 12, 12, 128)       0         \n",
            "_________________________________________________________________\n",
            "flatten_5 (Flatten)          (None, 18432)             0         \n",
            "_________________________________________________________________\n",
            "dense_8 (Dense)              (None, 64)                1179712   \n",
            "_________________________________________________________________\n",
            "dropout_24 (Dropout)         (None, 64)                0         \n",
            "_________________________________________________________________\n",
            "dense_9 (Dense)              (None, 1)                 65        \n",
            "=================================================================\n",
            "Total params: 1,319,201\n",
            "Trainable params: 1,319,201\n",
            "Non-trainable params: 0\n",
            "_________________________________________________________________\n"
          ],
          "name": "stdout"
        }
      ]
    },
    {
      "cell_type": "code",
      "metadata": {
        "id": "aipny2VfGRcB",
        "colab_type": "code",
        "colab": {
          "base_uri": "https://localhost:8080/",
          "height": 1000
        },
        "outputId": "986f6b27-4967-4e87-eed4-fe5505381f6e"
      },
      "source": [
        "history=model.fit(train,epochs=80,batch_size=128,validation_data=test, shuffle=True)"
      ],
      "execution_count": 63,
      "outputs": [
        {
          "output_type": "stream",
          "text": [
            "Epoch 1/80\n",
            "5/5 [==============================] - 3s 502ms/step - loss: 0.4261 - accuracy: 0.8000 - val_loss: 0.6274 - val_accuracy: 0.6500\n",
            "Epoch 2/80\n",
            "5/5 [==============================] - 2s 455ms/step - loss: 0.5034 - accuracy: 0.8000 - val_loss: 0.5831 - val_accuracy: 0.7500\n",
            "Epoch 3/80\n",
            "5/5 [==============================] - 2s 459ms/step - loss: 0.5798 - accuracy: 0.7071 - val_loss: 0.6103 - val_accuracy: 0.7500\n",
            "Epoch 4/80\n",
            "5/5 [==============================] - 2s 385ms/step - loss: 0.5051 - accuracy: 0.7786 - val_loss: 0.6105 - val_accuracy: 0.6500\n",
            "Epoch 5/80\n",
            "5/5 [==============================] - 2s 384ms/step - loss: 0.4722 - accuracy: 0.7714 - val_loss: 0.5500 - val_accuracy: 0.8000\n",
            "Epoch 6/80\n",
            "5/5 [==============================] - 2s 384ms/step - loss: 0.4058 - accuracy: 0.8000 - val_loss: 0.5061 - val_accuracy: 0.8000\n",
            "Epoch 7/80\n",
            "5/5 [==============================] - 2s 388ms/step - loss: 0.4132 - accuracy: 0.8000 - val_loss: 0.4691 - val_accuracy: 0.8000\n",
            "Epoch 8/80\n",
            "5/5 [==============================] - 2s 389ms/step - loss: 0.4319 - accuracy: 0.7929 - val_loss: 0.4466 - val_accuracy: 0.8000\n",
            "Epoch 9/80\n",
            "5/5 [==============================] - 2s 384ms/step - loss: 0.4303 - accuracy: 0.8071 - val_loss: 0.4988 - val_accuracy: 0.8000\n",
            "Epoch 10/80\n",
            "5/5 [==============================] - 2s 449ms/step - loss: 0.5544 - accuracy: 0.6786 - val_loss: 0.5444 - val_accuracy: 0.8000\n",
            "Epoch 11/80\n",
            "5/5 [==============================] - 2s 387ms/step - loss: 0.3919 - accuracy: 0.8214 - val_loss: 0.4842 - val_accuracy: 0.8000\n",
            "Epoch 12/80\n",
            "5/5 [==============================] - 2s 385ms/step - loss: 0.3998 - accuracy: 0.8143 - val_loss: 0.4828 - val_accuracy: 0.8000\n",
            "Epoch 13/80\n",
            "5/5 [==============================] - 2s 389ms/step - loss: 0.4046 - accuracy: 0.7857 - val_loss: 0.4948 - val_accuracy: 0.7500\n",
            "Epoch 14/80\n",
            "5/5 [==============================] - 2s 390ms/step - loss: 0.3385 - accuracy: 0.8643 - val_loss: 0.4988 - val_accuracy: 0.8000\n",
            "Epoch 15/80\n",
            "5/5 [==============================] - 2s 397ms/step - loss: 0.3856 - accuracy: 0.8071 - val_loss: 0.4394 - val_accuracy: 0.7500\n",
            "Epoch 16/80\n",
            "5/5 [==============================] - 2s 387ms/step - loss: 0.3841 - accuracy: 0.8143 - val_loss: 0.4568 - val_accuracy: 0.8000\n",
            "Epoch 17/80\n",
            "5/5 [==============================] - 2s 389ms/step - loss: 0.3443 - accuracy: 0.8286 - val_loss: 0.4181 - val_accuracy: 0.8000\n",
            "Epoch 18/80\n",
            "5/5 [==============================] - 2s 381ms/step - loss: 0.3312 - accuracy: 0.8571 - val_loss: 0.3984 - val_accuracy: 0.8000\n",
            "Epoch 19/80\n",
            "5/5 [==============================] - 2s 454ms/step - loss: 0.4092 - accuracy: 0.8357 - val_loss: 0.4114 - val_accuracy: 0.7500\n",
            "Epoch 20/80\n",
            "5/5 [==============================] - 2s 389ms/step - loss: 0.3836 - accuracy: 0.8357 - val_loss: 0.4723 - val_accuracy: 0.8000\n",
            "Epoch 21/80\n",
            "5/5 [==============================] - 2s 385ms/step - loss: 0.3690 - accuracy: 0.8286 - val_loss: 0.4825 - val_accuracy: 0.8000\n",
            "Epoch 22/80\n",
            "5/5 [==============================] - 2s 389ms/step - loss: 0.3485 - accuracy: 0.7929 - val_loss: 0.4397 - val_accuracy: 0.8000\n",
            "Epoch 23/80\n",
            "5/5 [==============================] - 2s 439ms/step - loss: 0.6169 - accuracy: 0.7786 - val_loss: 0.4465 - val_accuracy: 0.7500\n",
            "Epoch 24/80\n",
            "5/5 [==============================] - 2s 377ms/step - loss: 0.4082 - accuracy: 0.8143 - val_loss: 0.5577 - val_accuracy: 0.7500\n",
            "Epoch 25/80\n",
            "5/5 [==============================] - 2s 377ms/step - loss: 0.4886 - accuracy: 0.7929 - val_loss: 0.5210 - val_accuracy: 0.8000\n",
            "Epoch 26/80\n",
            "5/5 [==============================] - 2s 452ms/step - loss: 0.3492 - accuracy: 0.8929 - val_loss: 0.4918 - val_accuracy: 0.7500\n",
            "Epoch 27/80\n",
            "5/5 [==============================] - 2s 385ms/step - loss: 0.3594 - accuracy: 0.8429 - val_loss: 0.4198 - val_accuracy: 0.8000\n",
            "Epoch 28/80\n",
            "5/5 [==============================] - 2s 447ms/step - loss: 0.4454 - accuracy: 0.8143 - val_loss: 0.4183 - val_accuracy: 0.8000\n",
            "Epoch 29/80\n",
            "5/5 [==============================] - 2s 451ms/step - loss: 0.3390 - accuracy: 0.8571 - val_loss: 0.4245 - val_accuracy: 0.8500\n",
            "Epoch 30/80\n",
            "5/5 [==============================] - 2s 391ms/step - loss: 0.4059 - accuracy: 0.8357 - val_loss: 0.4545 - val_accuracy: 0.8000\n",
            "Epoch 31/80\n",
            "5/5 [==============================] - 2s 451ms/step - loss: 0.3207 - accuracy: 0.9000 - val_loss: 0.4082 - val_accuracy: 0.9000\n",
            "Epoch 32/80\n",
            "5/5 [==============================] - 2s 448ms/step - loss: 0.3262 - accuracy: 0.9071 - val_loss: 0.4285 - val_accuracy: 0.8000\n",
            "Epoch 33/80\n",
            "5/5 [==============================] - 2s 390ms/step - loss: 0.3259 - accuracy: 0.8643 - val_loss: 0.4398 - val_accuracy: 0.8000\n",
            "Epoch 34/80\n",
            "5/5 [==============================] - 2s 395ms/step - loss: 0.3307 - accuracy: 0.8643 - val_loss: 0.3632 - val_accuracy: 0.8500\n",
            "Epoch 35/80\n",
            "5/5 [==============================] - 2s 447ms/step - loss: 0.3301 - accuracy: 0.8786 - val_loss: 0.3750 - val_accuracy: 0.8500\n",
            "Epoch 36/80\n",
            "5/5 [==============================] - 2s 446ms/step - loss: 0.3128 - accuracy: 0.8643 - val_loss: 0.3731 - val_accuracy: 0.8500\n",
            "Epoch 37/80\n",
            "5/5 [==============================] - 2s 388ms/step - loss: 0.3309 - accuracy: 0.8500 - val_loss: 0.3974 - val_accuracy: 0.8500\n",
            "Epoch 38/80\n",
            "5/5 [==============================] - 2s 453ms/step - loss: 0.2784 - accuracy: 0.9000 - val_loss: 0.4382 - val_accuracy: 0.7500\n",
            "Epoch 39/80\n",
            "5/5 [==============================] - 2s 449ms/step - loss: 0.3450 - accuracy: 0.8643 - val_loss: 0.3908 - val_accuracy: 0.8500\n",
            "Epoch 40/80\n",
            "5/5 [==============================] - 2s 392ms/step - loss: 0.2991 - accuracy: 0.9000 - val_loss: 0.3271 - val_accuracy: 0.9000\n",
            "Epoch 41/80\n",
            "5/5 [==============================] - 2s 386ms/step - loss: 0.3089 - accuracy: 0.8857 - val_loss: 0.3266 - val_accuracy: 0.8500\n",
            "Epoch 42/80\n",
            "5/5 [==============================] - 2s 384ms/step - loss: 0.2612 - accuracy: 0.8714 - val_loss: 0.3036 - val_accuracy: 0.9000\n",
            "Epoch 43/80\n",
            "5/5 [==============================] - 2s 419ms/step - loss: 0.2193 - accuracy: 0.9214 - val_loss: 0.3210 - val_accuracy: 0.9000\n",
            "Epoch 44/80\n",
            "5/5 [==============================] - 2s 390ms/step - loss: 0.2368 - accuracy: 0.9286 - val_loss: 0.3320 - val_accuracy: 0.8500\n",
            "Epoch 45/80\n",
            "5/5 [==============================] - 2s 381ms/step - loss: 0.2771 - accuracy: 0.9214 - val_loss: 0.3297 - val_accuracy: 0.8500\n",
            "Epoch 46/80\n",
            "5/5 [==============================] - 2s 381ms/step - loss: 0.2206 - accuracy: 0.9000 - val_loss: 0.4055 - val_accuracy: 0.8500\n",
            "Epoch 47/80\n",
            "5/5 [==============================] - 2s 380ms/step - loss: 0.2476 - accuracy: 0.9071 - val_loss: 0.3688 - val_accuracy: 0.9000\n",
            "Epoch 48/80\n",
            "5/5 [==============================] - 2s 442ms/step - loss: 0.2822 - accuracy: 0.9000 - val_loss: 0.3845 - val_accuracy: 0.8500\n",
            "Epoch 49/80\n",
            "5/5 [==============================] - 2s 382ms/step - loss: 0.2705 - accuracy: 0.8500 - val_loss: 0.3616 - val_accuracy: 0.8500\n",
            "Epoch 50/80\n",
            "5/5 [==============================] - 2s 380ms/step - loss: 0.2606 - accuracy: 0.8857 - val_loss: 0.3162 - val_accuracy: 0.9000\n",
            "Epoch 51/80\n",
            "5/5 [==============================] - 2s 382ms/step - loss: 0.3095 - accuracy: 0.8857 - val_loss: 0.3352 - val_accuracy: 0.9500\n",
            "Epoch 52/80\n",
            "5/5 [==============================] - 2s 388ms/step - loss: 0.1879 - accuracy: 0.9357 - val_loss: 0.3252 - val_accuracy: 0.9000\n",
            "Epoch 53/80\n",
            "5/5 [==============================] - 2s 384ms/step - loss: 0.2068 - accuracy: 0.9071 - val_loss: 0.4153 - val_accuracy: 0.8000\n",
            "Epoch 54/80\n",
            "5/5 [==============================] - 2s 394ms/step - loss: 0.2101 - accuracy: 0.9357 - val_loss: 0.4083 - val_accuracy: 0.8500\n",
            "Epoch 55/80\n",
            "5/5 [==============================] - 2s 389ms/step - loss: 0.1957 - accuracy: 0.9286 - val_loss: 0.3094 - val_accuracy: 0.8500\n",
            "Epoch 56/80\n",
            "5/5 [==============================] - 2s 441ms/step - loss: 0.2886 - accuracy: 0.8929 - val_loss: 0.3157 - val_accuracy: 0.8500\n",
            "Epoch 57/80\n",
            "5/5 [==============================] - 2s 403ms/step - loss: 0.2447 - accuracy: 0.9071 - val_loss: 0.3673 - val_accuracy: 0.8500\n",
            "Epoch 58/80\n",
            "5/5 [==============================] - 2s 383ms/step - loss: 0.1678 - accuracy: 0.9357 - val_loss: 0.4077 - val_accuracy: 0.8000\n",
            "Epoch 59/80\n",
            "5/5 [==============================] - 2s 451ms/step - loss: 0.1831 - accuracy: 0.9214 - val_loss: 0.4709 - val_accuracy: 0.8500\n",
            "Epoch 60/80\n",
            "5/5 [==============================] - 2s 397ms/step - loss: 0.1722 - accuracy: 0.9357 - val_loss: 0.3768 - val_accuracy: 0.9000\n",
            "Epoch 61/80\n",
            "5/5 [==============================] - 2s 391ms/step - loss: 0.1752 - accuracy: 0.9357 - val_loss: 0.4059 - val_accuracy: 0.8500\n",
            "Epoch 62/80\n",
            "5/5 [==============================] - 2s 445ms/step - loss: 0.1920 - accuracy: 0.9286 - val_loss: 0.3634 - val_accuracy: 0.9000\n",
            "Epoch 63/80\n",
            "5/5 [==============================] - 2s 448ms/step - loss: 0.1406 - accuracy: 0.9357 - val_loss: 0.4308 - val_accuracy: 0.8500\n",
            "Epoch 64/80\n",
            "5/5 [==============================] - 2s 393ms/step - loss: 0.2012 - accuracy: 0.9429 - val_loss: 0.3822 - val_accuracy: 0.8000\n",
            "Epoch 65/80\n",
            "5/5 [==============================] - 2s 395ms/step - loss: 0.2295 - accuracy: 0.9500 - val_loss: 0.3888 - val_accuracy: 0.9000\n",
            "Epoch 66/80\n",
            "5/5 [==============================] - 2s 394ms/step - loss: 0.1772 - accuracy: 0.9357 - val_loss: 0.3424 - val_accuracy: 0.8500\n",
            "Epoch 67/80\n",
            "5/5 [==============================] - 2s 399ms/step - loss: 0.1863 - accuracy: 0.9071 - val_loss: 0.4620 - val_accuracy: 0.9000\n",
            "Epoch 68/80\n",
            "5/5 [==============================] - 2s 408ms/step - loss: 0.1810 - accuracy: 0.9357 - val_loss: 0.2882 - val_accuracy: 0.8500\n",
            "Epoch 69/80\n",
            "5/5 [==============================] - 2s 444ms/step - loss: 0.2134 - accuracy: 0.9357 - val_loss: 0.2577 - val_accuracy: 0.9000\n",
            "Epoch 70/80\n",
            "5/5 [==============================] - 2s 384ms/step - loss: 0.1936 - accuracy: 0.9143 - val_loss: 0.2725 - val_accuracy: 0.9000\n",
            "Epoch 71/80\n",
            "5/5 [==============================] - 2s 376ms/step - loss: 0.1726 - accuracy: 0.9500 - val_loss: 0.3022 - val_accuracy: 0.9000\n",
            "Epoch 72/80\n",
            "5/5 [==============================] - 2s 388ms/step - loss: 0.1768 - accuracy: 0.9214 - val_loss: 0.2880 - val_accuracy: 0.9000\n",
            "Epoch 73/80\n",
            "5/5 [==============================] - 2s 384ms/step - loss: 0.2359 - accuracy: 0.9143 - val_loss: 0.4212 - val_accuracy: 0.9000\n",
            "Epoch 74/80\n",
            "5/5 [==============================] - 2s 383ms/step - loss: 0.2118 - accuracy: 0.9071 - val_loss: 0.2709 - val_accuracy: 0.8500\n",
            "Epoch 75/80\n",
            "5/5 [==============================] - 2s 389ms/step - loss: 0.1491 - accuracy: 0.9429 - val_loss: 0.3383 - val_accuracy: 0.8000\n",
            "Epoch 76/80\n",
            "5/5 [==============================] - 2s 388ms/step - loss: 0.1475 - accuracy: 0.9214 - val_loss: 0.3815 - val_accuracy: 0.8500\n",
            "Epoch 77/80\n",
            "5/5 [==============================] - 2s 390ms/step - loss: 0.2084 - accuracy: 0.9214 - val_loss: 0.3538 - val_accuracy: 0.9500\n",
            "Epoch 78/80\n",
            "5/5 [==============================] - 2s 383ms/step - loss: 0.1413 - accuracy: 0.9286 - val_loss: 0.2898 - val_accuracy: 0.9000\n",
            "Epoch 79/80\n",
            "5/5 [==============================] - 2s 449ms/step - loss: 0.2327 - accuracy: 0.9214 - val_loss: 0.3071 - val_accuracy: 0.9000\n",
            "Epoch 80/80\n",
            "5/5 [==============================] - 2s 392ms/step - loss: 0.1655 - accuracy: 0.9286 - val_loss: 0.3707 - val_accuracy: 0.8500\n"
          ],
          "name": "stdout"
        }
      ]
    },
    {
      "cell_type": "code",
      "metadata": {
        "id": "6qxk-ar9GmCk",
        "colab_type": "code",
        "colab": {
          "base_uri": "https://localhost:8080/",
          "height": 282
        },
        "outputId": "9be7699f-97f1-44b0-9e7e-c809825bd277"
      },
      "source": [
        "import matplotlib.pyplot as plt\n",
        "plt.plot(history.history['loss'])\n",
        "plt.plot(history.history['val_loss'])"
      ],
      "execution_count": 65,
      "outputs": [
        {
          "output_type": "execute_result",
          "data": {
            "text/plain": [
              "[<matplotlib.lines.Line2D at 0x7fca7043e4e0>]"
            ]
          },
          "metadata": {
            "tags": []
          },
          "execution_count": 65
        },
        {
          "output_type": "display_data",
          "data": {
            "image/png": "[encoded data removed]",
            "text/plain": [
              "<Figure size 432x288 with 1 Axes>"
            ]
          },
          "metadata": {
            "tags": [],
            "needs_background": "light"
          }
        }
      ]
    }
  ]
}