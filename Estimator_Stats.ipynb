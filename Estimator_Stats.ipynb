{
  "nbformat": 4,
  "nbformat_minor": 0,
  "metadata": {
    "colab": {
      "name": "Estimator Stats",
      "provenance": []
    },
    "kernelspec": {
      "name": "python3",
      "display_name": "Python 3"
    }
  },
  "cells": [
    {
      "cell_type": "code",
      "metadata": {
        "id": "utL9R6AbVQtG",
        "outputId": "2ad3514c-ce9c-4303-c111-8748f32bafaf",
        "colab": {
          "base_uri": "https://localhost:8080/"
        }
      },
      "source": [
        "!git clone \"https://github.com/ACCLAB/DABEST-python.git\""
      ],
      "execution_count": 1,
      "outputs": [
        {
          "output_type": "stream",
          "text": [
            "Cloning into 'DABEST-python'...\n",
            "remote: Enumerating objects: 536, done.\u001b[K\n",
            "remote: Counting objects: 100% (536/536), done.\u001b[K\n",
            "remote: Compressing objects: 100% (428/428), done.\u001b[K\n",
            "remote: Total 3169 (delta 228), reused 380 (delta 108), pack-reused 2633\u001b[K\n",
            "Receiving objects: 100% (3169/3169), 17.62 MiB | 25.99 MiB/s, done.\n",
            "Resolving deltas: 100% (1871/1871), done.\n"
          ],
          "name": "stdout"
        }
      ]
    },
    {
      "cell_type": "code",
      "metadata": {
        "id": "7sv1CT6pVe3-",
        "outputId": "ea355336-861f-4ea9-ac22-75633efe6612",
        "colab": {
          "base_uri": "https://localhost:8080/"
        }
      },
      "source": [
        "cd DABEST-python/"
      ],
      "execution_count": 3,
      "outputs": [
        {
          "output_type": "stream",
          "text": [
            "/content/DABEST-python\n"
          ],
          "name": "stdout"
        }
      ]
    },
    {
      "cell_type": "code",
      "metadata": {
        "id": "JozskYjOVmAN"
      },
      "source": [
        "!pip install ."
      ],
      "execution_count": null,
      "outputs": []
    },
    {
      "cell_type": "code",
      "metadata": {
        "id": "I-d9quTzWcIw"
      },
      "source": [
        "import numpy as np\n",
        "import pandas as pd\n",
        "import matplotlib.pyplot as plt\n",
        "import dabest\n",
        "plt.style.use(\"ggplot\")"
      ],
      "execution_count": 15,
      "outputs": []
    },
    {
      "cell_type": "code",
      "metadata": {
        "id": "Gj0cEAxTWiJQ",
        "outputId": "56667d05-dd7e-4d4e-92f0-39a1b565090b",
        "colab": {
          "base_uri": "https://localhost:8080/"
        }
      },
      "source": [
        "print(dabest.__version__)"
      ],
      "execution_count": 3,
      "outputs": [
        {
          "output_type": "stream",
          "text": [
            "0.3.1\n"
          ],
          "name": "stdout"
        }
      ]
    },
    {
      "cell_type": "code",
      "metadata": {
        "id": "Jd4zBCVCVrHo",
        "outputId": "44224651-90b1-470c-9f9b-67beb4cb1caf",
        "colab": {
          "base_uri": "https://localhost:8080/",
          "height": 206
        }
      },
      "source": [
        "df = pd.read_csv('/content/sample_data - Sheet1.csv')\n",
        "df.head()"
      ],
      "execution_count": 4,
      "outputs": [
        {
          "output_type": "execute_result",
          "data": {
            "text/html": [
              "<div>\n",
              "<style scoped>\n",
              "    .dataframe tbody tr th:only-of-type {\n",
              "        vertical-align: middle;\n",
              "    }\n",
              "\n",
              "    .dataframe tbody tr th {\n",
              "        vertical-align: top;\n",
              "    }\n",
              "\n",
              "    .dataframe thead th {\n",
              "        text-align: right;\n",
              "    }\n",
              "</style>\n",
              "<table border=\"1\" class=\"dataframe\">\n",
              "  <thead>\n",
              "    <tr style=\"text-align: right;\">\n",
              "      <th></th>\n",
              "      <th>Glu_4_hr</th>\n",
              "      <th>Glu_24_hr_Ace</th>\n",
              "    </tr>\n",
              "  </thead>\n",
              "  <tbody>\n",
              "    <tr>\n",
              "      <th>0</th>\n",
              "      <td>15.8</td>\n",
              "      <td>12.0</td>\n",
              "    </tr>\n",
              "    <tr>\n",
              "      <th>1</th>\n",
              "      <td>15.2</td>\n",
              "      <td>12.9</td>\n",
              "    </tr>\n",
              "    <tr>\n",
              "      <th>2</th>\n",
              "      <td>14.9</td>\n",
              "      <td>11.2</td>\n",
              "    </tr>\n",
              "    <tr>\n",
              "      <th>3</th>\n",
              "      <td>11.7</td>\n",
              "      <td>12.0</td>\n",
              "    </tr>\n",
              "    <tr>\n",
              "      <th>4</th>\n",
              "      <td>12.4</td>\n",
              "      <td>12.7</td>\n",
              "    </tr>\n",
              "  </tbody>\n",
              "</table>\n",
              "</div>"
            ],
            "text/plain": [
              "   Glu_4_hr  Glu_24_hr_Ace\n",
              "0      15.8           12.0\n",
              "1      15.2           12.9\n",
              "2      14.9           11.2\n",
              "3      11.7           12.0\n",
              "4      12.4           12.7"
            ]
          },
          "metadata": {
            "tags": []
          },
          "execution_count": 4
        }
      ]
    },
    {
      "cell_type": "code",
      "metadata": {
        "id": "UrLOHZaYWabq",
        "outputId": "7176947d-6794-44f2-85e4-953f074b6e05",
        "colab": {
          "base_uri": "https://localhost:8080/"
        }
      },
      "source": [
        "data = dabest.load(df,idx=('Glu_4_hr','Glu_24_hr_Ace'))\n",
        "print(data)"
      ],
      "execution_count": 5,
      "outputs": [
        {
          "output_type": "stream",
          "text": [
            "DABEST v0.3.1\n",
            "=============\n",
            "             \n",
            "Good morning!\n",
            "The current time is Wed Nov  4 08:25:54 2020.\n",
            "\n",
            "Effect size(s) with 95% confidence intervals will be computed for:\n",
            "1. Glu_24_hr_Ace minus Glu_4_hr\n",
            "\n",
            "5000 resamples will be used to generate the effect size bootstraps.\n"
          ],
          "name": "stdout"
        }
      ]
    },
    {
      "cell_type": "code",
      "metadata": {
        "id": "Sz0YWMf2W1b7",
        "outputId": "e61d5b81-69ab-4a69-8389-4b8f81dfaf26",
        "colab": {
          "base_uri": "https://localhost:8080/"
        }
      },
      "source": [
        "mean_df = data.mean_diff\n",
        "print(mean_df)"
      ],
      "execution_count": 6,
      "outputs": [
        {
          "output_type": "stream",
          "text": [
            "DABEST v0.3.1\n",
            "=============\n",
            "             \n",
            "Good morning!\n",
            "The current time is Wed Nov  4 08:26:52 2020.\n",
            "\n",
            "The unpaired mean difference between Glu_4_hr and Glu_24_hr_Ace is -1.19 [95%CI -2.08, -0.5].\n",
            "The p-value of the two-sided permutation t-test is 0.0058. \n",
            "\n",
            "5000 bootstrap samples were taken; the confidence interval is bias-corrected and accelerated.\n",
            "The p-value(s) reported are the likelihood(s) of observing the effect size(s),\n",
            "if the null hypothesis of zero difference is true.\n",
            "For each p-value, 5000 reshuffles of the control and test labels were performed.\n",
            "\n",
            "To get the results of all valid statistical tests, use `.mean_diff.statistical_tests`\n"
          ],
          "name": "stdout"
        }
      ]
    },
    {
      "cell_type": "code",
      "metadata": {
        "id": "LGXAnDAaXDds",
        "outputId": "69957231-27d8-4237-aa83-c552727c22bf",
        "colab": {
          "base_uri": "https://localhost:8080/",
          "height": 406
        }
      },
      "source": [
        "viz = mean_df.plot()"
      ],
      "execution_count": 16,
      "outputs": [
        {
          "output_type": "display_data",
          "data": {
            "image/png": "[encoded data removed]",
            "text/plain": [
              "<Figure size 500x400 with 2 Axes>"
            ]
          },
          "metadata": {
            "tags": []
          }
        }
      ]
    },
    {
      "cell_type": "code",
      "metadata": {
        "id": "LTVHVqppXIrX"
      },
      "source": [
        ""
      ],
      "execution_count": null,
      "outputs": []
    }
  ]
}