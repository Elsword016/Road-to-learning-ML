{
  "nbformat": 4,
  "nbformat_minor": 0,
  "metadata": {
    "colab": {
      "name": "Protein Classification(76% with Multi NB)",
      "provenance": []
    },
    "kernelspec": {
      "name": "python3",
      "display_name": "Python 3"
    }
  },
  "cells": [
    {
      "cell_type": "code",
      "metadata": {
        "id": "8Teqn5SDjF1a",
        "colab_type": "code",
        "colab": {}
      },
      "source": [
        "#attempt with k-mer counting and CountVectorizer\n",
        "import pandas as pd\n",
        "import numpy as np\n",
        "from sklearn.feature_extraction.text import CountVectorizer"
      ],
      "execution_count": null,
      "outputs": []
    },
    {
      "cell_type": "code",
      "metadata": {
        "id": "E1ddOXx_lJaO",
        "colab_type": "code",
        "colab": {}
      },
      "source": [
        "df_class = pd.read_csv('/content/pdb_data_no_dups.csv')\n",
        "df_seq = pd.read_csv('/content/pdb_data_seq.csv')"
      ],
      "execution_count": null,
      "outputs": []
    },
    {
      "cell_type": "code",
      "metadata": {
        "id": "5YozhwvHlgX7",
        "colab_type": "code",
        "colab": {}
      },
      "source": [
        "protein_class = df_class[df_class.macromoleculeType == 'Protein']\n",
        "protein_seq = df_seq[df_seq.macromoleculeType == 'Protein']"
      ],
      "execution_count": null,
      "outputs": []
    },
    {
      "cell_type": "code",
      "metadata": {
        "id": "4-PSnftTmge2",
        "colab_type": "code",
        "colab": {}
      },
      "source": [
        "#join the features\n",
        "protein_class = protein_class[['structureId','classification']]\n",
        "protein_seq = protein_seq[['structureId','sequence']]"
      ],
      "execution_count": null,
      "outputs": []
    },
    {
      "cell_type": "code",
      "metadata": {
        "id": "edEVia_CnFYq",
        "colab_type": "code",
        "colab": {}
      },
      "source": [
        "pdb_data = protein_class.set_index('structureId').join(protein_seq.set_index('structureId'))"
      ],
      "execution_count": null,
      "outputs": []
    },
    {
      "cell_type": "code",
      "metadata": {
        "id": "Jq1kkWZQnHz6",
        "colab_type": "code",
        "colab": {
          "base_uri": "https://localhost:8080/",
          "height": 252
        },
        "outputId": "3cb0cb12-90db-4547-d60d-a50cc66365d7"
      },
      "source": [
        "print('Generating the final dataset...')\n",
        "pdb_data.head()"
      ],
      "execution_count": null,
      "outputs": [
        {
          "output_type": "stream",
          "text": [
            "Generating the final dataset...\n"
          ],
          "name": "stdout"
        },
        {
          "output_type": "execute_result",
          "data": {
            "text/html": [
              "<div>\n",
              "<style scoped>\n",
              "    .dataframe tbody tr th:only-of-type {\n",
              "        vertical-align: middle;\n",
              "    }\n",
              "\n",
              "    .dataframe tbody tr th {\n",
              "        vertical-align: top;\n",
              "    }\n",
              "\n",
              "    .dataframe thead th {\n",
              "        text-align: right;\n",
              "    }\n",
              "</style>\n",
              "<table border=\"1\" class=\"dataframe\">\n",
              "  <thead>\n",
              "    <tr style=\"text-align: right;\">\n",
              "      <th></th>\n",
              "      <th>classification</th>\n",
              "      <th>sequence</th>\n",
              "    </tr>\n",
              "    <tr>\n",
              "      <th>structureId</th>\n",
              "      <th></th>\n",
              "      <th></th>\n",
              "    </tr>\n",
              "  </thead>\n",
              "  <tbody>\n",
              "    <tr>\n",
              "      <th>101M</th>\n",
              "      <td>OXYGEN TRANSPORT</td>\n",
              "      <td>MVLSEGEWQLVLHVWAKVEADVAGHGQDILIRLFKSHPETLEKFDR...</td>\n",
              "    </tr>\n",
              "    <tr>\n",
              "      <th>102L</th>\n",
              "      <td>HYDROLASE(O-GLYCOSYL)</td>\n",
              "      <td>MNIFEMLRIDEGLRLKIYKDTEGYYTIGIGHLLTKSPSLNAAAKSE...</td>\n",
              "    </tr>\n",
              "    <tr>\n",
              "      <th>102M</th>\n",
              "      <td>OXYGEN TRANSPORT</td>\n",
              "      <td>MVLSEGEWQLVLHVWAKVEADVAGHGQDILIRLFKSHPETLEKFDR...</td>\n",
              "    </tr>\n",
              "    <tr>\n",
              "      <th>103L</th>\n",
              "      <td>HYDROLASE(O-GLYCOSYL)</td>\n",
              "      <td>MNIFEMLRIDEGLRLKIYKDTEGYYTIGIGHLLTKSPSLNSLDAAK...</td>\n",
              "    </tr>\n",
              "    <tr>\n",
              "      <th>103M</th>\n",
              "      <td>OXYGEN TRANSPORT</td>\n",
              "      <td>MVLSEGEWQLVLHVWAKVEADVAGHGQDILIRLFKSHPETLEKFDR...</td>\n",
              "    </tr>\n",
              "  </tbody>\n",
              "</table>\n",
              "</div>"
            ],
            "text/plain": [
              "                    classification                                           sequence\n",
              "structureId                                                                          \n",
              "101M              OXYGEN TRANSPORT  MVLSEGEWQLVLHVWAKVEADVAGHGQDILIRLFKSHPETLEKFDR...\n",
              "102L         HYDROLASE(O-GLYCOSYL)  MNIFEMLRIDEGLRLKIYKDTEGYYTIGIGHLLTKSPSLNAAAKSE...\n",
              "102M              OXYGEN TRANSPORT  MVLSEGEWQLVLHVWAKVEADVAGHGQDILIRLFKSHPETLEKFDR...\n",
              "103L         HYDROLASE(O-GLYCOSYL)  MNIFEMLRIDEGLRLKIYKDTEGYYTIGIGHLLTKSPSLNSLDAAK...\n",
              "103M              OXYGEN TRANSPORT  MVLSEGEWQLVLHVWAKVEADVAGHGQDILIRLFKSHPETLEKFDR..."
            ]
          },
          "metadata": {
            "tags": []
          },
          "execution_count": 12
        }
      ]
    },
    {
      "cell_type": "code",
      "metadata": {
        "id": "5mvbBPKKodhT",
        "colab_type": "code",
        "colab": {
          "base_uri": "https://localhost:8080/",
          "height": 68
        },
        "outputId": "e8c5d957-d830-4cd4-b925-b2619a75f256"
      },
      "source": [
        "pdb_data.isnull().sum()"
      ],
      "execution_count": null,
      "outputs": [
        {
          "output_type": "execute_result",
          "data": {
            "text/plain": [
              "classification    1\n",
              "sequence          3\n",
              "dtype: int64"
            ]
          },
          "metadata": {
            "tags": []
          },
          "execution_count": 14
        }
      ]
    },
    {
      "cell_type": "code",
      "metadata": {
        "id": "tcteHA_jo2MT",
        "colab_type": "code",
        "colab": {
          "base_uri": "https://localhost:8080/",
          "height": 450
        },
        "outputId": "889cbb6f-86e2-4983-e119-5ee1bd5ea419"
      },
      "source": [
        "pdb_data.dropna()"
      ],
      "execution_count": null,
      "outputs": [
        {
          "output_type": "execute_result",
          "data": {
            "text/html": [
              "<div>\n",
              "<style scoped>\n",
              "    .dataframe tbody tr th:only-of-type {\n",
              "        vertical-align: middle;\n",
              "    }\n",
              "\n",
              "    .dataframe tbody tr th {\n",
              "        vertical-align: top;\n",
              "    }\n",
              "\n",
              "    .dataframe thead th {\n",
              "        text-align: right;\n",
              "    }\n",
              "</style>\n",
              "<table border=\"1\" class=\"dataframe\">\n",
              "  <thead>\n",
              "    <tr style=\"text-align: right;\">\n",
              "      <th></th>\n",
              "      <th>classification</th>\n",
              "      <th>sequence</th>\n",
              "    </tr>\n",
              "    <tr>\n",
              "      <th>structureId</th>\n",
              "      <th></th>\n",
              "      <th></th>\n",
              "    </tr>\n",
              "  </thead>\n",
              "  <tbody>\n",
              "    <tr>\n",
              "      <th>101M</th>\n",
              "      <td>OXYGEN TRANSPORT</td>\n",
              "      <td>MVLSEGEWQLVLHVWAKVEADVAGHGQDILIRLFKSHPETLEKFDR...</td>\n",
              "    </tr>\n",
              "    <tr>\n",
              "      <th>102L</th>\n",
              "      <td>HYDROLASE(O-GLYCOSYL)</td>\n",
              "      <td>MNIFEMLRIDEGLRLKIYKDTEGYYTIGIGHLLTKSPSLNAAAKSE...</td>\n",
              "    </tr>\n",
              "    <tr>\n",
              "      <th>102M</th>\n",
              "      <td>OXYGEN TRANSPORT</td>\n",
              "      <td>MVLSEGEWQLVLHVWAKVEADVAGHGQDILIRLFKSHPETLEKFDR...</td>\n",
              "    </tr>\n",
              "    <tr>\n",
              "      <th>103L</th>\n",
              "      <td>HYDROLASE(O-GLYCOSYL)</td>\n",
              "      <td>MNIFEMLRIDEGLRLKIYKDTEGYYTIGIGHLLTKSPSLNSLDAAK...</td>\n",
              "    </tr>\n",
              "    <tr>\n",
              "      <th>103M</th>\n",
              "      <td>OXYGEN TRANSPORT</td>\n",
              "      <td>MVLSEGEWQLVLHVWAKVEADVAGHGQDILIRLFKSHPETLEKFDR...</td>\n",
              "    </tr>\n",
              "    <tr>\n",
              "      <th>...</th>\n",
              "      <td>...</td>\n",
              "      <td>...</td>\n",
              "    </tr>\n",
              "    <tr>\n",
              "      <th>9XIA</th>\n",
              "      <td>ISOMERASE(INTRAMOLECULAR OXIDOREDUCTASE)</td>\n",
              "      <td>MNYQPTPEDRFTFGLWTVGWQGRDPFGDATRRALDPVESVQRLAEL...</td>\n",
              "    </tr>\n",
              "    <tr>\n",
              "      <th>9XIM</th>\n",
              "      <td>ISOMERASE(INTRAMOLECULAR OXIDOREDUCTASE)</td>\n",
              "      <td>SVQATREDKFSFGLWTVGWQARDAFGDATRTALDPVEAVHKLAEIG...</td>\n",
              "    </tr>\n",
              "    <tr>\n",
              "      <th>9XIM</th>\n",
              "      <td>ISOMERASE(INTRAMOLECULAR OXIDOREDUCTASE)</td>\n",
              "      <td>SVQATREDKFSFGLWTVGWQARDAFGDATRTALDPVEAVHKLAEIG...</td>\n",
              "    </tr>\n",
              "    <tr>\n",
              "      <th>9XIM</th>\n",
              "      <td>ISOMERASE(INTRAMOLECULAR OXIDOREDUCTASE)</td>\n",
              "      <td>SVQATREDKFSFGLWTVGWQARDAFGDATRTALDPVEAVHKLAEIG...</td>\n",
              "    </tr>\n",
              "    <tr>\n",
              "      <th>9XIM</th>\n",
              "      <td>ISOMERASE(INTRAMOLECULAR OXIDOREDUCTASE)</td>\n",
              "      <td>SVQATREDKFSFGLWTVGWQARDAFGDATRTALDPVEAVHKLAEIG...</td>\n",
              "    </tr>\n",
              "  </tbody>\n",
              "</table>\n",
              "<p>346321 rows × 2 columns</p>\n",
              "</div>"
            ],
            "text/plain": [
              "                                       classification                                           sequence\n",
              "structureId                                                                                             \n",
              "101M                                 OXYGEN TRANSPORT  MVLSEGEWQLVLHVWAKVEADVAGHGQDILIRLFKSHPETLEKFDR...\n",
              "102L                            HYDROLASE(O-GLYCOSYL)  MNIFEMLRIDEGLRLKIYKDTEGYYTIGIGHLLTKSPSLNAAAKSE...\n",
              "102M                                 OXYGEN TRANSPORT  MVLSEGEWQLVLHVWAKVEADVAGHGQDILIRLFKSHPETLEKFDR...\n",
              "103L                            HYDROLASE(O-GLYCOSYL)  MNIFEMLRIDEGLRLKIYKDTEGYYTIGIGHLLTKSPSLNSLDAAK...\n",
              "103M                                 OXYGEN TRANSPORT  MVLSEGEWQLVLHVWAKVEADVAGHGQDILIRLFKSHPETLEKFDR...\n",
              "...                                               ...                                                ...\n",
              "9XIA         ISOMERASE(INTRAMOLECULAR OXIDOREDUCTASE)  MNYQPTPEDRFTFGLWTVGWQGRDPFGDATRRALDPVESVQRLAEL...\n",
              "9XIM         ISOMERASE(INTRAMOLECULAR OXIDOREDUCTASE)  SVQATREDKFSFGLWTVGWQARDAFGDATRTALDPVEAVHKLAEIG...\n",
              "9XIM         ISOMERASE(INTRAMOLECULAR OXIDOREDUCTASE)  SVQATREDKFSFGLWTVGWQARDAFGDATRTALDPVEAVHKLAEIG...\n",
              "9XIM         ISOMERASE(INTRAMOLECULAR OXIDOREDUCTASE)  SVQATREDKFSFGLWTVGWQARDAFGDATRTALDPVEAVHKLAEIG...\n",
              "9XIM         ISOMERASE(INTRAMOLECULAR OXIDOREDUCTASE)  SVQATREDKFSFGLWTVGWQARDAFGDATRTALDPVEAVHKLAEIG...\n",
              "\n",
              "[346321 rows x 2 columns]"
            ]
          },
          "metadata": {
            "tags": []
          },
          "execution_count": 15
        }
      ]
    },
    {
      "cell_type": "code",
      "metadata": {
        "id": "khEOdupxpJT5",
        "colab_type": "code",
        "colab": {
          "base_uri": "https://localhost:8080/",
          "height": 221
        },
        "outputId": "69f49cc0-c3ac-42d8-90d0-86ecb6a79757"
      },
      "source": [
        "#no of classfications\n",
        "counts = pdb_data.classification.value_counts()\n",
        "print(counts)"
      ],
      "execution_count": null,
      "outputs": [
        {
          "output_type": "stream",
          "text": [
            "HYDROLASE                                  46336\n",
            "TRANSFERASE                                36424\n",
            "OXIDOREDUCTASE                             34322\n",
            "IMMUNE SYSTEM                              15615\n",
            "LYASE                                      11682\n",
            "                                           ...  \n",
            "ANTIMICROBIAL PROTEIN, MEMBRANE PROTEIN        1\n",
            "CALCIUM CHANNEL BLOCKER                        1\n",
            "C-TYPE LECTIN                                  1\n",
            "Cell adhesion, structural protein              1\n",
            "Recombination/DNA binding                      1\n",
            "Name: classification, Length: 4468, dtype: int64\n"
          ],
          "name": "stdout"
        }
      ]
    },
    {
      "cell_type": "code",
      "metadata": {
        "id": "z635Z625pe6r",
        "colab_type": "code",
        "colab": {
          "base_uri": "https://localhost:8080/",
          "height": 238
        },
        "outputId": "acdddf3a-df23-4093-d6e8-51602718f045"
      },
      "source": [
        "types = np.asarray(counts[(counts>1000)].index)\n",
        "data = pdb_data[pdb_data.classification.isin(types)]\n",
        "print(types)"
      ],
      "execution_count": null,
      "outputs": [
        {
          "output_type": "stream",
          "text": [
            "['HYDROLASE' 'TRANSFERASE' 'OXIDOREDUCTASE' 'IMMUNE SYSTEM' 'LYASE'\n",
            " 'HYDROLASE/HYDROLASE INHIBITOR' 'TRANSCRIPTION' 'VIRAL PROTEIN'\n",
            " 'TRANSPORT PROTEIN' 'VIRUS' 'SIGNALING PROTEIN' 'ISOMERASE' 'LIGASE'\n",
            " 'MEMBRANE PROTEIN' 'PROTEIN BINDING' 'STRUCTURAL PROTEIN' 'CHAPERONE'\n",
            " 'STRUCTURAL GENOMICS, UNKNOWN FUNCTION' 'SUGAR BINDING PROTEIN'\n",
            " 'DNA BINDING PROTEIN' 'PHOTOSYNTHESIS' 'ELECTRON TRANSPORT'\n",
            " 'TRANSFERASE/TRANSFERASE INHIBITOR' 'METAL BINDING PROTEIN'\n",
            " 'CELL ADHESION' 'UNKNOWN FUNCTION' 'PROTEIN TRANSPORT' 'TOXIN'\n",
            " 'CELL CYCLE' 'RNA BINDING PROTEIN' 'DE NOVO PROTEIN' 'HORMONE'\n",
            " 'GENE REGULATION' 'OXIDOREDUCTASE/OXIDOREDUCTASE INHIBITOR' 'APOPTOSIS'\n",
            " 'MOTOR PROTEIN' 'PROTEIN FIBRIL' 'METAL TRANSPORT'\n",
            " 'VIRAL PROTEIN/IMMUNE SYSTEM' 'CONTRACTILE PROTEIN' 'FLUORESCENT PROTEIN'\n",
            " 'TRANSLATION' 'BIOSYNTHETIC PROTEIN']\n"
          ],
          "name": "stdout"
        }
      ]
    },
    {
      "cell_type": "code",
      "metadata": {
        "id": "AF5TPk0mqMTS",
        "colab_type": "code",
        "colab": {
          "base_uri": "https://localhost:8080/",
          "height": 272
        },
        "outputId": "62deb340-59dd-4812-f05b-64db65b0ba98"
      },
      "source": [
        "print(data)"
      ],
      "execution_count": null,
      "outputs": [
        {
          "output_type": "stream",
          "text": [
            "                                classification                                           sequence\n",
            "structureId                                                                                      \n",
            "10GS         TRANSFERASE/TRANSFERASE INHIBITOR  PPYTVVYFPVRGRCAALRMLLADQGQSWKEEVVTVETWQEGSLKAS...\n",
            "10GS         TRANSFERASE/TRANSFERASE INHIBITOR  PPYTVVYFPVRGRCAALRMLLADQGQSWKEEVVTVETWQEGSLKAS...\n",
            "117E                                 HYDROLASE  TYTTRQIGAKNTLEYKVYIEKDGKPVSAFHDIPLYADKENNIFNMV...\n",
            "117E                                 HYDROLASE  TYTTRQIGAKNTLEYKVYIEKDGKPVSAFHDIPLYADKENNIFNMV...\n",
            "11AS                                    LIGASE  MKTAYIAKQRQISFVKSHFSRQLEERLGLIEVQAPILSRVGDGTQD...\n",
            "...                                        ...                                                ...\n",
            "9LPR             HYDROLASE/HYDROLASE INHIBITOR  ANIVGGIEYSINNASLCSVGFSVTRGATKGFVTAGHCGTVNATARI...\n",
            "9LPR             HYDROLASE/HYDROLASE INHIBITOR                                              XAAPL\n",
            "9NSE                            OXIDOREDUCTASE  SRAPAPATPHAPDHSPAPNSPTLTRPPEGPKFPRVKNWELGSITYD...\n",
            "9NSE                            OXIDOREDUCTASE  SRAPAPATPHAPDHSPAPNSPTLTRPPEGPKFPRVKNWELGSITYD...\n",
            "9PCY                        ELECTRON TRANSPORT  LEVLLGSGDGSLVFVPSEFSVPSGEKIVFKNNAGFPHNVVFDEDEI...\n",
            "\n",
            "[278869 rows x 2 columns]\n"
          ],
          "name": "stdout"
        }
      ]
    },
    {
      "cell_type": "code",
      "metadata": {
        "id": "2v6hljBNuWqO",
        "colab_type": "code",
        "colab": {
          "base_uri": "https://localhost:8080/",
          "height": 54
        },
        "outputId": "5d3e2034-75f9-4521-ebea-f5e72d3134f0"
      },
      "source": [
        "data.dropna()\n",
        "from sklearn.model_selection import train_test_split\n",
        "X_train, X_test,y_train,y_test = train_test_split(data['sequence'], data['classification'], test_size = 0.2, random_state = 1)\n",
        "\n",
        "# Create a Count Vectorizer to gather the unique elements in sequence\n",
        "vect = CountVectorizer(analyzer = 'char_wb', ngram_range = (4,4))\n",
        "\n",
        "# Fit and Transform CountVectorizer\n",
        "vect.fit(X_train.values.astype('U'))\n",
        "X_train_df = vect.transform(X_train.values.astype('U'))\n",
        "X_test_df = vect.transform(X_test.values.astype('U'))\n",
        "\n",
        "#Print a few of the features\n",
        "print(vect.get_feature_names()[-20:])"
      ],
      "execution_count": null,
      "outputs": [
        {
          "output_type": "stream",
          "text": [
            "['zhhh', 'ziar', 'zigi', 'ziwz', 'zkal', 'zkky', 'zknt', 'zkyh', 'zlik', 'zlzk', 'zpvm', 'zrgd', 'zrvi', 'ztvl', 'ztzk', 'zvbd', 'zvib', 'zvka', 'zwdl', 'zzvb']\n"
          ],
          "name": "stdout"
        }
      ]
    },
    {
      "cell_type": "code",
      "metadata": {
        "id": "gDBiQ_HfwY8K",
        "colab_type": "code",
        "colab": {
          "base_uri": "https://localhost:8080/",
          "height": 34
        },
        "outputId": "7a125e77-b5ba-40d6-f8f7-f2da9efbc367"
      },
      "source": [
        "#training model\n",
        "from sklearn.metrics import accuracy_score, confusion_matrix, classification_report\n",
        "pred_acc = dict()\n",
        "from sklearn.naive_bayes import MultinomialNB\n",
        "model = MultinomialNB().fit(X_train_df,y_train)\n",
        "pred = model.predict(X_test_df)\n",
        "pred_acc['MultinomialNB'] = accuracy_score(pred,y_test)\n",
        "print(pred_acc['MultinomialNB'])"
      ],
      "execution_count": null,
      "outputs": [
        {
          "output_type": "stream",
          "text": [
            "0.7641194821960053\n"
          ],
          "name": "stdout"
        }
      ]
    },
    {
      "cell_type": "code",
      "metadata": {
        "id": "7yIKz1uRyqoz",
        "colab_type": "code",
        "colab": {}
      },
      "source": [
        ""
      ],
      "execution_count": null,
      "outputs": []
    }
  ]
}