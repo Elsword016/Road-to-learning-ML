{
  "nbformat": 4,
  "nbformat_minor": 0,
  "metadata": {
    "colab": {
      "name": "Diabetes_data_pred",
      "provenance": [],
      "collapsed_sections": []
    },
    "kernelspec": {
      "name": "python3",
      "display_name": "Python 3"
    }
  },
  "cells": [
    {
      "cell_type": "code",
      "metadata": {
        "id": "-5LwORgnnf54"
      },
      "source": [
        "import numpy as np\n",
        "import pandas as pd\n",
        "import seaborn as sns\n",
        "from sklearn.model_selection import*\n",
        "from sklearn.linear_model import*\n",
        "import keras\n",
        "from keras.layers import*\n",
        "from keras.models import*\n",
        "from sklearn.preprocessing import LabelEncoder\n",
        "from keras.wrappers.scikit_learn import KerasClassifier"
      ],
      "execution_count": null,
      "outputs": []
    },
    {
      "cell_type": "code",
      "metadata": {
        "id": "zvOJrb9boAFG"
      },
      "source": [
        "data_path = '/content/diabetes_data_upload.csv'"
      ],
      "execution_count": null,
      "outputs": []
    },
    {
      "cell_type": "code",
      "metadata": {
        "id": "g8l5yEnVoKn2",
        "outputId": "23f0f59f-2ca0-46d1-9391-9e91a228ad9f",
        "colab": {
          "base_uri": "https://localhost:8080/",
          "height": 418
        }
      },
      "source": [
        "df = pd.read_csv(data_path)\n",
        "df.head(10)"
      ],
      "execution_count": null,
      "outputs": [
        {
          "output_type": "execute_result",
          "data": {
            "text/html": [
              "<div>\n",
              "<style scoped>\n",
              "    .dataframe tbody tr th:only-of-type {\n",
              "        vertical-align: middle;\n",
              "    }\n",
              "\n",
              "    .dataframe tbody tr th {\n",
              "        vertical-align: top;\n",
              "    }\n",
              "\n",
              "    .dataframe thead th {\n",
              "        text-align: right;\n",
              "    }\n",
              "</style>\n",
              "<table border=\"1\" class=\"dataframe\">\n",
              "  <thead>\n",
              "    <tr style=\"text-align: right;\">\n",
              "      <th></th>\n",
              "      <th>Age</th>\n",
              "      <th>Gender</th>\n",
              "      <th>Polyuria</th>\n",
              "      <th>Polydipsia</th>\n",
              "      <th>sudden weight loss</th>\n",
              "      <th>weakness</th>\n",
              "      <th>Polyphagia</th>\n",
              "      <th>Genital thrush</th>\n",
              "      <th>visual blurring</th>\n",
              "      <th>Itching</th>\n",
              "      <th>Irritability</th>\n",
              "      <th>delayed healing</th>\n",
              "      <th>partial paresis</th>\n",
              "      <th>muscle stiffness</th>\n",
              "      <th>Alopecia</th>\n",
              "      <th>Obesity</th>\n",
              "      <th>class</th>\n",
              "    </tr>\n",
              "  </thead>\n",
              "  <tbody>\n",
              "    <tr>\n",
              "      <th>0</th>\n",
              "      <td>40</td>\n",
              "      <td>Male</td>\n",
              "      <td>No</td>\n",
              "      <td>Yes</td>\n",
              "      <td>No</td>\n",
              "      <td>Yes</td>\n",
              "      <td>No</td>\n",
              "      <td>No</td>\n",
              "      <td>No</td>\n",
              "      <td>Yes</td>\n",
              "      <td>No</td>\n",
              "      <td>Yes</td>\n",
              "      <td>No</td>\n",
              "      <td>Yes</td>\n",
              "      <td>Yes</td>\n",
              "      <td>Yes</td>\n",
              "      <td>Positive</td>\n",
              "    </tr>\n",
              "    <tr>\n",
              "      <th>1</th>\n",
              "      <td>58</td>\n",
              "      <td>Male</td>\n",
              "      <td>No</td>\n",
              "      <td>No</td>\n",
              "      <td>No</td>\n",
              "      <td>Yes</td>\n",
              "      <td>No</td>\n",
              "      <td>No</td>\n",
              "      <td>Yes</td>\n",
              "      <td>No</td>\n",
              "      <td>No</td>\n",
              "      <td>No</td>\n",
              "      <td>Yes</td>\n",
              "      <td>No</td>\n",
              "      <td>Yes</td>\n",
              "      <td>No</td>\n",
              "      <td>Positive</td>\n",
              "    </tr>\n",
              "    <tr>\n",
              "      <th>2</th>\n",
              "      <td>41</td>\n",
              "      <td>Male</td>\n",
              "      <td>Yes</td>\n",
              "      <td>No</td>\n",
              "      <td>No</td>\n",
              "      <td>Yes</td>\n",
              "      <td>Yes</td>\n",
              "      <td>No</td>\n",
              "      <td>No</td>\n",
              "      <td>Yes</td>\n",
              "      <td>No</td>\n",
              "      <td>Yes</td>\n",
              "      <td>No</td>\n",
              "      <td>Yes</td>\n",
              "      <td>Yes</td>\n",
              "      <td>No</td>\n",
              "      <td>Positive</td>\n",
              "    </tr>\n",
              "    <tr>\n",
              "      <th>3</th>\n",
              "      <td>45</td>\n",
              "      <td>Male</td>\n",
              "      <td>No</td>\n",
              "      <td>No</td>\n",
              "      <td>Yes</td>\n",
              "      <td>Yes</td>\n",
              "      <td>Yes</td>\n",
              "      <td>Yes</td>\n",
              "      <td>No</td>\n",
              "      <td>Yes</td>\n",
              "      <td>No</td>\n",
              "      <td>Yes</td>\n",
              "      <td>No</td>\n",
              "      <td>No</td>\n",
              "      <td>No</td>\n",
              "      <td>No</td>\n",
              "      <td>Positive</td>\n",
              "    </tr>\n",
              "    <tr>\n",
              "      <th>4</th>\n",
              "      <td>60</td>\n",
              "      <td>Male</td>\n",
              "      <td>Yes</td>\n",
              "      <td>Yes</td>\n",
              "      <td>Yes</td>\n",
              "      <td>Yes</td>\n",
              "      <td>Yes</td>\n",
              "      <td>No</td>\n",
              "      <td>Yes</td>\n",
              "      <td>Yes</td>\n",
              "      <td>Yes</td>\n",
              "      <td>Yes</td>\n",
              "      <td>Yes</td>\n",
              "      <td>Yes</td>\n",
              "      <td>Yes</td>\n",
              "      <td>Yes</td>\n",
              "      <td>Positive</td>\n",
              "    </tr>\n",
              "    <tr>\n",
              "      <th>5</th>\n",
              "      <td>55</td>\n",
              "      <td>Male</td>\n",
              "      <td>Yes</td>\n",
              "      <td>Yes</td>\n",
              "      <td>No</td>\n",
              "      <td>Yes</td>\n",
              "      <td>Yes</td>\n",
              "      <td>No</td>\n",
              "      <td>Yes</td>\n",
              "      <td>Yes</td>\n",
              "      <td>No</td>\n",
              "      <td>Yes</td>\n",
              "      <td>No</td>\n",
              "      <td>Yes</td>\n",
              "      <td>Yes</td>\n",
              "      <td>Yes</td>\n",
              "      <td>Positive</td>\n",
              "    </tr>\n",
              "    <tr>\n",
              "      <th>6</th>\n",
              "      <td>57</td>\n",
              "      <td>Male</td>\n",
              "      <td>Yes</td>\n",
              "      <td>Yes</td>\n",
              "      <td>No</td>\n",
              "      <td>Yes</td>\n",
              "      <td>Yes</td>\n",
              "      <td>Yes</td>\n",
              "      <td>No</td>\n",
              "      <td>No</td>\n",
              "      <td>No</td>\n",
              "      <td>Yes</td>\n",
              "      <td>Yes</td>\n",
              "      <td>No</td>\n",
              "      <td>No</td>\n",
              "      <td>No</td>\n",
              "      <td>Positive</td>\n",
              "    </tr>\n",
              "    <tr>\n",
              "      <th>7</th>\n",
              "      <td>66</td>\n",
              "      <td>Male</td>\n",
              "      <td>Yes</td>\n",
              "      <td>Yes</td>\n",
              "      <td>Yes</td>\n",
              "      <td>Yes</td>\n",
              "      <td>No</td>\n",
              "      <td>No</td>\n",
              "      <td>Yes</td>\n",
              "      <td>Yes</td>\n",
              "      <td>Yes</td>\n",
              "      <td>No</td>\n",
              "      <td>Yes</td>\n",
              "      <td>Yes</td>\n",
              "      <td>No</td>\n",
              "      <td>No</td>\n",
              "      <td>Positive</td>\n",
              "    </tr>\n",
              "    <tr>\n",
              "      <th>8</th>\n",
              "      <td>67</td>\n",
              "      <td>Male</td>\n",
              "      <td>Yes</td>\n",
              "      <td>Yes</td>\n",
              "      <td>No</td>\n",
              "      <td>Yes</td>\n",
              "      <td>Yes</td>\n",
              "      <td>Yes</td>\n",
              "      <td>No</td>\n",
              "      <td>Yes</td>\n",
              "      <td>Yes</td>\n",
              "      <td>No</td>\n",
              "      <td>Yes</td>\n",
              "      <td>Yes</td>\n",
              "      <td>No</td>\n",
              "      <td>Yes</td>\n",
              "      <td>Positive</td>\n",
              "    </tr>\n",
              "    <tr>\n",
              "      <th>9</th>\n",
              "      <td>70</td>\n",
              "      <td>Male</td>\n",
              "      <td>No</td>\n",
              "      <td>Yes</td>\n",
              "      <td>Yes</td>\n",
              "      <td>Yes</td>\n",
              "      <td>Yes</td>\n",
              "      <td>No</td>\n",
              "      <td>Yes</td>\n",
              "      <td>Yes</td>\n",
              "      <td>Yes</td>\n",
              "      <td>No</td>\n",
              "      <td>No</td>\n",
              "      <td>No</td>\n",
              "      <td>Yes</td>\n",
              "      <td>No</td>\n",
              "      <td>Positive</td>\n",
              "    </tr>\n",
              "  </tbody>\n",
              "</table>\n",
              "</div>"
            ],
            "text/plain": [
              "   Age Gender Polyuria Polydipsia  ... muscle stiffness Alopecia Obesity     class\n",
              "0   40   Male       No        Yes  ...              Yes      Yes     Yes  Positive\n",
              "1   58   Male       No         No  ...               No      Yes      No  Positive\n",
              "2   41   Male      Yes         No  ...              Yes      Yes      No  Positive\n",
              "3   45   Male       No         No  ...               No       No      No  Positive\n",
              "4   60   Male      Yes        Yes  ...              Yes      Yes     Yes  Positive\n",
              "5   55   Male      Yes        Yes  ...              Yes      Yes     Yes  Positive\n",
              "6   57   Male      Yes        Yes  ...               No       No      No  Positive\n",
              "7   66   Male      Yes        Yes  ...              Yes       No      No  Positive\n",
              "8   67   Male      Yes        Yes  ...              Yes       No     Yes  Positive\n",
              "9   70   Male       No        Yes  ...               No      Yes      No  Positive\n",
              "\n",
              "[10 rows x 17 columns]"
            ]
          },
          "metadata": {
            "tags": []
          },
          "execution_count": 39
        }
      ]
    },
    {
      "cell_type": "code",
      "metadata": {
        "id": "L_N4rv8MpvBc",
        "outputId": "7f57fd53-1c78-45b7-9f72-e0222e03742e",
        "colab": {
          "base_uri": "https://localhost:8080/",
          "height": 330
        }
      },
      "source": [
        "df.isnull().sum()"
      ],
      "execution_count": null,
      "outputs": [
        {
          "output_type": "execute_result",
          "data": {
            "text/plain": [
              "Age                   0\n",
              "Gender                0\n",
              "Polyuria              0\n",
              "Polydipsia            0\n",
              "sudden weight loss    0\n",
              "weakness              0\n",
              "Polyphagia            0\n",
              "Genital thrush        0\n",
              "visual blurring       0\n",
              "Itching               0\n",
              "Irritability          0\n",
              "delayed healing       0\n",
              "partial paresis       0\n",
              "muscle stiffness      0\n",
              "Alopecia              0\n",
              "Obesity               0\n",
              "class                 0\n",
              "dtype: int64"
            ]
          },
          "metadata": {
            "tags": []
          },
          "execution_count": 40
        }
      ]
    },
    {
      "cell_type": "code",
      "metadata": {
        "id": "KK-cBQmPt4My",
        "outputId": "9bb39f60-6f8e-411c-ad9c-e244c543080e",
        "colab": {
          "base_uri": "https://localhost:8080/",
          "height": 214
        }
      },
      "source": [
        ""
      ],
      "execution_count": null,
      "outputs": [
        {
          "output_type": "execute_result",
          "data": {
            "text/plain": [
              "<seaborn.axisgrid.PairGrid at 0x7f862f874c50>"
            ]
          },
          "metadata": {
            "tags": []
          },
          "execution_count": 41
        },
        {
          "output_type": "display_data",
          "data": {
            "image/png": "[encoded data removed]",
            "text/plain": [
              "<Figure size 213x180 with 2 Axes>"
            ]
          },
          "metadata": {
            "tags": [],
            "needs_background": "light"
          }
        }
      ]
    },
    {
      "cell_type": "code",
      "metadata": {
        "id": "Zjt3kj_ioPii"
      },
      "source": [
        "X = df.drop('class',axis=1)\n",
        "y = df['class']"
      ],
      "execution_count": null,
      "outputs": []
    },
    {
      "cell_type": "code",
      "metadata": {
        "id": "GnQbJLRAojEG"
      },
      "source": [
        "feature_classes = ['Gender','Polyuria','Polydipsia','sudden weight loss','weakness','Polyphagia','Genital thrush','visual blurring','Itching','Irritability','delayed healing'\n",
        ",'partial paresis','muscle stiffness','Alopecia','Obesity']\n",
        "x=[]"
      ],
      "execution_count": null,
      "outputs": []
    },
    {
      "cell_type": "code",
      "metadata": {
        "id": "EqZXhzYuqR3h"
      },
      "source": [
        "length = len(feature_classes)\n",
        "for i in range(length):\n",
        "  X[feature_classes[i]] = LabelEncoder().fit_transform(X[feature_classes[i]])\n",
        "\n",
        "#male = 0, female =1\n",
        "#No =0, yes = 1\n"
      ],
      "execution_count": null,
      "outputs": []
    },
    {
      "cell_type": "code",
      "metadata": {
        "id": "4iyXtGZ8ru7y",
        "outputId": "c497455e-38dd-4ba4-ce31-e75336a938ce",
        "colab": {
          "base_uri": "https://localhost:8080/",
          "height": 261
        }
      },
      "source": [
        "X.head()"
      ],
      "execution_count": null,
      "outputs": [
        {
          "output_type": "execute_result",
          "data": {
            "text/html": [
              "<div>\n",
              "<style scoped>\n",
              "    .dataframe tbody tr th:only-of-type {\n",
              "        vertical-align: middle;\n",
              "    }\n",
              "\n",
              "    .dataframe tbody tr th {\n",
              "        vertical-align: top;\n",
              "    }\n",
              "\n",
              "    .dataframe thead th {\n",
              "        text-align: right;\n",
              "    }\n",
              "</style>\n",
              "<table border=\"1\" class=\"dataframe\">\n",
              "  <thead>\n",
              "    <tr style=\"text-align: right;\">\n",
              "      <th></th>\n",
              "      <th>Age</th>\n",
              "      <th>Gender</th>\n",
              "      <th>Polyuria</th>\n",
              "      <th>Polydipsia</th>\n",
              "      <th>sudden weight loss</th>\n",
              "      <th>weakness</th>\n",
              "      <th>Polyphagia</th>\n",
              "      <th>Genital thrush</th>\n",
              "      <th>visual blurring</th>\n",
              "      <th>Itching</th>\n",
              "      <th>Irritability</th>\n",
              "      <th>delayed healing</th>\n",
              "      <th>partial paresis</th>\n",
              "      <th>muscle stiffness</th>\n",
              "      <th>Alopecia</th>\n",
              "      <th>Obesity</th>\n",
              "    </tr>\n",
              "  </thead>\n",
              "  <tbody>\n",
              "    <tr>\n",
              "      <th>0</th>\n",
              "      <td>40</td>\n",
              "      <td>0</td>\n",
              "      <td>0</td>\n",
              "      <td>1</td>\n",
              "      <td>0</td>\n",
              "      <td>1</td>\n",
              "      <td>0</td>\n",
              "      <td>0</td>\n",
              "      <td>0</td>\n",
              "      <td>1</td>\n",
              "      <td>0</td>\n",
              "      <td>1</td>\n",
              "      <td>0</td>\n",
              "      <td>1</td>\n",
              "      <td>1</td>\n",
              "      <td>1</td>\n",
              "    </tr>\n",
              "    <tr>\n",
              "      <th>1</th>\n",
              "      <td>58</td>\n",
              "      <td>0</td>\n",
              "      <td>0</td>\n",
              "      <td>0</td>\n",
              "      <td>0</td>\n",
              "      <td>1</td>\n",
              "      <td>0</td>\n",
              "      <td>0</td>\n",
              "      <td>1</td>\n",
              "      <td>0</td>\n",
              "      <td>0</td>\n",
              "      <td>0</td>\n",
              "      <td>1</td>\n",
              "      <td>0</td>\n",
              "      <td>1</td>\n",
              "      <td>0</td>\n",
              "    </tr>\n",
              "    <tr>\n",
              "      <th>2</th>\n",
              "      <td>41</td>\n",
              "      <td>0</td>\n",
              "      <td>1</td>\n",
              "      <td>0</td>\n",
              "      <td>0</td>\n",
              "      <td>1</td>\n",
              "      <td>1</td>\n",
              "      <td>0</td>\n",
              "      <td>0</td>\n",
              "      <td>1</td>\n",
              "      <td>0</td>\n",
              "      <td>1</td>\n",
              "      <td>0</td>\n",
              "      <td>1</td>\n",
              "      <td>1</td>\n",
              "      <td>0</td>\n",
              "    </tr>\n",
              "    <tr>\n",
              "      <th>3</th>\n",
              "      <td>45</td>\n",
              "      <td>0</td>\n",
              "      <td>0</td>\n",
              "      <td>0</td>\n",
              "      <td>1</td>\n",
              "      <td>1</td>\n",
              "      <td>1</td>\n",
              "      <td>1</td>\n",
              "      <td>0</td>\n",
              "      <td>1</td>\n",
              "      <td>0</td>\n",
              "      <td>1</td>\n",
              "      <td>0</td>\n",
              "      <td>0</td>\n",
              "      <td>0</td>\n",
              "      <td>0</td>\n",
              "    </tr>\n",
              "    <tr>\n",
              "      <th>4</th>\n",
              "      <td>60</td>\n",
              "      <td>0</td>\n",
              "      <td>1</td>\n",
              "      <td>1</td>\n",
              "      <td>1</td>\n",
              "      <td>1</td>\n",
              "      <td>1</td>\n",
              "      <td>0</td>\n",
              "      <td>1</td>\n",
              "      <td>1</td>\n",
              "      <td>1</td>\n",
              "      <td>1</td>\n",
              "      <td>1</td>\n",
              "      <td>1</td>\n",
              "      <td>1</td>\n",
              "      <td>1</td>\n",
              "    </tr>\n",
              "  </tbody>\n",
              "</table>\n",
              "</div>"
            ],
            "text/plain": [
              "   Age  Gender  Polyuria  ...  muscle stiffness  Alopecia  Obesity\n",
              "0   40       0         0  ...                 1         1        1\n",
              "1   58       0         0  ...                 0         1        0\n",
              "2   41       0         1  ...                 1         1        0\n",
              "3   45       0         0  ...                 0         0        0\n",
              "4   60       0         1  ...                 1         1        1\n",
              "\n",
              "[5 rows x 16 columns]"
            ]
          },
          "metadata": {
            "tags": []
          },
          "execution_count": 27
        }
      ]
    },
    {
      "cell_type": "code",
      "metadata": {
        "id": "CVitV1xGr9YV"
      },
      "source": [
        "y = LabelEncoder().fit_transform(y) #positive = 1; negative = 0 "
      ],
      "execution_count": null,
      "outputs": []
    },
    {
      "cell_type": "code",
      "metadata": {
        "id": "kvsTxK3ZtMFA",
        "outputId": "7d533118-25de-476e-ea54-220554a25785",
        "colab": {
          "base_uri": "https://localhost:8080/",
          "height": 86
        }
      },
      "source": [
        "X_train,X_test,y_train,y_test = train_test_split(X,y,test_size=0.3)\n",
        "print(X_train.shape)\n",
        "print(y_train.shape)\n",
        "print(X_test.shape)\n",
        "print(y_test.shape)"
      ],
      "execution_count": null,
      "outputs": [
        {
          "output_type": "stream",
          "text": [
            "(364, 16)\n",
            "(364,)\n",
            "(156, 16)\n",
            "(156,)\n"
          ],
          "name": "stdout"
        }
      ]
    },
    {
      "cell_type": "code",
      "metadata": {
        "id": "mNZMU5nT7kS9"
      },
      "source": [
        "from sklearn.preprocessing import StandardScaler\n",
        "X_train = StandardScaler().fit_transform(X_train)\n",
        "X_test = StandardScaler().fit_transform(X_test)"
      ],
      "execution_count": null,
      "outputs": []
    },
    {
      "cell_type": "code",
      "metadata": {
        "id": "7na5B7gctePX",
        "outputId": "6a083135-2bbf-4864-c7be-1c4edab496d8",
        "colab": {
          "base_uri": "https://localhost:8080/",
          "height": 121
        }
      },
      "source": [
        "#logistic_Regression\n",
        "lr_class = LogisticRegression()\n",
        "model = lr_class.fit(X_train,y_train)\n",
        "print(\"***Model State***\")\n",
        "print(model)"
      ],
      "execution_count": null,
      "outputs": [
        {
          "output_type": "stream",
          "text": [
            "***Model State***\n",
            "LogisticRegression(C=1.0, class_weight=None, dual=False, fit_intercept=True,\n",
            "                   intercept_scaling=1, l1_ratio=None, max_iter=100,\n",
            "                   multi_class='auto', n_jobs=None, penalty='l2',\n",
            "                   random_state=None, solver='lbfgs', tol=0.0001, verbose=0,\n",
            "                   warm_start=False)\n"
          ],
          "name": "stdout"
        }
      ]
    },
    {
      "cell_type": "code",
      "metadata": {
        "id": "hVp6swtpvGQE",
        "outputId": "345dcaf2-fbf0-44bb-f235-b33d1cb86127",
        "colab": {
          "base_uri": "https://localhost:8080/",
          "height": 104
        }
      },
      "source": [
        "#predictions\n",
        "predict = model.predict(X_test)\n",
        "print(predict)"
      ],
      "execution_count": null,
      "outputs": [
        {
          "output_type": "stream",
          "text": [
            "[1 0 0 0 1 1 1 1 1 0 1 1 0 0 0 1 1 0 0 1 1 1 0 0 1 0 1 0 0 1 0 1 0 1 1 0 1\n",
            " 0 1 0 1 1 0 1 1 1 1 1 1 1 0 1 1 0 0 0 0 1 0 0 0 1 1 0 0 0 0 0 1 0 1 0 1 1\n",
            " 1 0 1 1 0 0 1 0 0 1 1 1 0 1 1 0 0 0 0 0 1 1 1 1 1 0 0 0 1 1 0 0 1 0 1 0 0\n",
            " 1 1 1 0 0 1 0 1 1 1 1 0 1 0 0 0 1 1 1 0 1 0 0 1 1 1 1 1 1 0 0 1 0 1 1 1 1\n",
            " 0 1 0 1 0 1 0 1]\n"
          ],
          "name": "stdout"
        }
      ]
    },
    {
      "cell_type": "code",
      "metadata": {
        "id": "JdJyzzg3w7-T",
        "outputId": "dde1a013-6437-41b3-da10-ddc799d0c271",
        "colab": {
          "base_uri": "https://localhost:8080/",
          "height": 34
        }
      },
      "source": [
        "#accuracy\n",
        "acc = model.score(X_test,y_test)\n",
        "print(f\"The model is {acc}% accurate\")"
      ],
      "execution_count": null,
      "outputs": [
        {
          "output_type": "stream",
          "text": [
            "The model is 0.8525641025641025% accurate\n"
          ],
          "name": "stdout"
        }
      ]
    },
    {
      "cell_type": "code",
      "metadata": {
        "id": "_qzk2NyZykP6"
      },
      "source": [
        "#neural network\n",
        "def create_model():\n",
        "  nn = Sequential()\n",
        "  nn.add(Dense(32,input_dim=16,activation='relu'))\n",
        "  nn.add(Dense(64,activation='relu'))\n",
        "  nn.add(Dense(128,activation='relu'))\n",
        "  nn.add(Dense(1,activation='sigmoid'))\n",
        "\n",
        "  nn.compile(optimizer='adam',loss='binary_crossentropy',metrics=['accuracy'])\n",
        "\n",
        "  return nn\n",
        "  "
      ],
      "execution_count": null,
      "outputs": []
    },
    {
      "cell_type": "code",
      "metadata": {
        "id": "YGt1GDLUxR0k",
        "outputId": "5fa10f4b-9ca9-4e2c-ea28-d48feeb60fc9",
        "colab": {
          "base_uri": "https://localhost:8080/",
          "height": 347
        }
      },
      "source": [
        "#grid search\n",
        "network = KerasClassifier(build_fn=create_model,verbose=0)\n",
        "batch_size = [10, 20, 40, 60, 80, 100]\n",
        "epochs = [10, 50, 100]\n",
        "param_grid = dict(batch_size=batch_size, epochs=epochs)\n",
        "grid = GridSearchCV(estimator=network, param_grid=param_grid, n_jobs=-1, cv=3)\n",
        "grid_result = grid.fit(X_train, y_train)\n",
        "\n",
        "#results\n",
        "print(\"Best: %f using %s\" % (grid_result.best_score_, grid_result.best_params_))\n",
        "means = grid_result.cv_results_['mean_test_score']\n",
        "stds = grid_result.cv_results_['std_test_score']\n",
        "params = grid_result.cv_results_['params']\n",
        "for mean, stdev, param in zip(means, stds, params):\n",
        "    print(\"%f (%f) with: %r\" % (mean, stdev, param))"
      ],
      "execution_count": null,
      "outputs": [
        {
          "output_type": "stream",
          "text": [
            "Best: 0.950571 using {'batch_size': 40, 'epochs': 50}\n",
            "0.923091 (0.007637) with: {'batch_size': 10, 'epochs': 10}\n",
            "0.947907 (0.027753) with: {'batch_size': 10, 'epochs': 50}\n",
            "0.936775 (0.010489) with: {'batch_size': 10, 'epochs': 100}\n",
            "0.936842 (0.010092) with: {'batch_size': 20, 'epochs': 10}\n",
            "0.950549 (0.006751) with: {'batch_size': 20, 'epochs': 50}\n",
            "0.936842 (0.015442) with: {'batch_size': 20, 'epochs': 100}\n",
            "0.903920 (0.019001) with: {'batch_size': 40, 'epochs': 10}\n",
            "0.950571 (0.006555) with: {'batch_size': 40, 'epochs': 50}\n",
            "0.936842 (0.015442) with: {'batch_size': 40, 'epochs': 100}\n",
            "0.870975 (0.039133) with: {'batch_size': 60, 'epochs': 10}\n",
            "0.917604 (0.030858) with: {'batch_size': 60, 'epochs': 50}\n",
            "0.923136 (0.025315) with: {'batch_size': 60, 'epochs': 100}\n",
            "0.890010 (0.027538) with: {'batch_size': 80, 'epochs': 10}\n",
            "0.901120 (0.006392) with: {'batch_size': 80, 'epochs': 50}\n",
            "0.925936 (0.033353) with: {'batch_size': 80, 'epochs': 100}\n",
            "0.857065 (0.039185) with: {'batch_size': 100, 'epochs': 10}\n",
            "0.939597 (0.010036) with: {'batch_size': 100, 'epochs': 50}\n",
            "0.917649 (0.024033) with: {'batch_size': 100, 'epochs': 100}\n"
          ],
          "name": "stdout"
        }
      ]
    },
    {
      "cell_type": "code",
      "metadata": {
        "id": "DMqsOKZj1fY1",
        "outputId": "27467aaf-ed4f-4f4f-ca26-eca603cc577f",
        "colab": {
          "base_uri": "https://localhost:8080/",
          "height": 295
        }
      },
      "source": [
        "#final network\n",
        "diabnet = Sequential()\n",
        "diabnet.add(Dense(32,input_dim=16,activation='relu'))\n",
        "diabnet.add(Dense(64,activation='relu'))\n",
        "diabnet.add(Dense(128,activation='relu'))\n",
        "diabnet.add(Dense(1,activation='sigmoid'))\n",
        "\n",
        "diabnet.compile(optimizer='adam',loss='binary_crossentropy',metrics=['accuracy'])\n",
        "diabnet.summary()"
      ],
      "execution_count": null,
      "outputs": [
        {
          "output_type": "stream",
          "text": [
            "Model: \"sequential_4\"\n",
            "_________________________________________________________________\n",
            "Layer (type)                 Output Shape              Param #   \n",
            "=================================================================\n",
            "dense_10 (Dense)             (None, 32)                544       \n",
            "_________________________________________________________________\n",
            "dense_11 (Dense)             (None, 64)                2112      \n",
            "_________________________________________________________________\n",
            "dense_12 (Dense)             (None, 128)               8320      \n",
            "_________________________________________________________________\n",
            "dense_13 (Dense)             (None, 1)                 129       \n",
            "=================================================================\n",
            "Total params: 11,105\n",
            "Trainable params: 11,105\n",
            "Non-trainable params: 0\n",
            "_________________________________________________________________\n"
          ],
          "name": "stdout"
        }
      ]
    },
    {
      "cell_type": "code",
      "metadata": {
        "id": "QDQEjJiC4UIU",
        "outputId": "7571813f-6531-4e24-ec5c-e5f8f58cf150",
        "colab": {
          "base_uri": "https://localhost:8080/",
          "height": 1000
        }
      },
      "source": [
        "#fitting the model\n",
        "result = diabnet.fit(X_train,y_train,batch_size=40,epochs=50)"
      ],
      "execution_count": null,
      "outputs": [
        {
          "output_type": "stream",
          "text": [
            "Epoch 1/50\n",
            "10/10 [==============================] - 0s 2ms/step - loss: 0.2457 - accuracy: 0.9148\n",
            "Epoch 2/50\n",
            "10/10 [==============================] - 0s 3ms/step - loss: 0.1810 - accuracy: 0.9313\n",
            "Epoch 3/50\n",
            "10/10 [==============================] - 0s 2ms/step - loss: 0.1471 - accuracy: 0.9533\n",
            "Epoch 4/50\n",
            "10/10 [==============================] - 0s 2ms/step - loss: 0.1286 - accuracy: 0.9615\n",
            "Epoch 5/50\n",
            "10/10 [==============================] - 0s 2ms/step - loss: 0.1110 - accuracy: 0.9615\n",
            "Epoch 6/50\n",
            "10/10 [==============================] - 0s 2ms/step - loss: 0.0970 - accuracy: 0.9670\n",
            "Epoch 7/50\n",
            "10/10 [==============================] - 0s 2ms/step - loss: 0.0877 - accuracy: 0.9753\n",
            "Epoch 8/50\n",
            "10/10 [==============================] - 0s 2ms/step - loss: 0.0749 - accuracy: 0.9753\n",
            "Epoch 9/50\n",
            "10/10 [==============================] - 0s 2ms/step - loss: 0.0686 - accuracy: 0.9753\n",
            "Epoch 10/50\n",
            "10/10 [==============================] - 0s 2ms/step - loss: 0.0586 - accuracy: 0.9835\n",
            "Epoch 11/50\n",
            "10/10 [==============================] - 0s 2ms/step - loss: 0.0549 - accuracy: 0.9780\n",
            "Epoch 12/50\n",
            "10/10 [==============================] - 0s 2ms/step - loss: 0.0472 - accuracy: 0.9890\n",
            "Epoch 13/50\n",
            "10/10 [==============================] - 0s 2ms/step - loss: 0.0434 - accuracy: 0.9890\n",
            "Epoch 14/50\n",
            "10/10 [==============================] - 0s 2ms/step - loss: 0.0389 - accuracy: 0.9918\n",
            "Epoch 15/50\n",
            "10/10 [==============================] - 0s 2ms/step - loss: 0.0369 - accuracy: 0.9918\n",
            "Epoch 16/50\n",
            "10/10 [==============================] - 0s 2ms/step - loss: 0.0352 - accuracy: 0.9918\n",
            "Epoch 17/50\n",
            "10/10 [==============================] - 0s 2ms/step - loss: 0.0371 - accuracy: 0.9918\n",
            "Epoch 18/50\n",
            "10/10 [==============================] - 0s 2ms/step - loss: 0.0334 - accuracy: 0.9918\n",
            "Epoch 19/50\n",
            "10/10 [==============================] - 0s 2ms/step - loss: 0.0332 - accuracy: 0.9918\n",
            "Epoch 20/50\n",
            "10/10 [==============================] - 0s 2ms/step - loss: 0.0327 - accuracy: 0.9918\n",
            "Epoch 21/50\n",
            "10/10 [==============================] - 0s 2ms/step - loss: 0.0338 - accuracy: 0.9918\n",
            "Epoch 22/50\n",
            "10/10 [==============================] - 0s 3ms/step - loss: 0.0325 - accuracy: 0.9918\n",
            "Epoch 23/50\n",
            "10/10 [==============================] - 0s 2ms/step - loss: 0.0310 - accuracy: 0.9918\n",
            "Epoch 24/50\n",
            "10/10 [==============================] - 0s 2ms/step - loss: 0.0317 - accuracy: 0.9918\n",
            "Epoch 25/50\n",
            "10/10 [==============================] - 0s 2ms/step - loss: 0.0311 - accuracy: 0.9918\n",
            "Epoch 26/50\n",
            "10/10 [==============================] - 0s 2ms/step - loss: 0.0313 - accuracy: 0.9918\n",
            "Epoch 27/50\n",
            "10/10 [==============================] - 0s 2ms/step - loss: 0.0320 - accuracy: 0.9918\n",
            "Epoch 28/50\n",
            "10/10 [==============================] - 0s 2ms/step - loss: 0.0308 - accuracy: 0.9918\n",
            "Epoch 29/50\n",
            "10/10 [==============================] - 0s 2ms/step - loss: 0.0319 - accuracy: 0.9918\n",
            "Epoch 30/50\n",
            "10/10 [==============================] - 0s 2ms/step - loss: 0.0305 - accuracy: 0.9918\n",
            "Epoch 31/50\n",
            "10/10 [==============================] - 0s 2ms/step - loss: 0.0319 - accuracy: 0.9918\n",
            "Epoch 32/50\n",
            "10/10 [==============================] - 0s 2ms/step - loss: 0.0315 - accuracy: 0.9918\n",
            "Epoch 33/50\n",
            "10/10 [==============================] - 0s 2ms/step - loss: 0.0329 - accuracy: 0.9918\n",
            "Epoch 34/50\n",
            "10/10 [==============================] - 0s 2ms/step - loss: 0.0298 - accuracy: 0.9918\n",
            "Epoch 35/50\n",
            "10/10 [==============================] - 0s 2ms/step - loss: 0.0297 - accuracy: 0.9918\n",
            "Epoch 36/50\n",
            "10/10 [==============================] - 0s 2ms/step - loss: 0.0300 - accuracy: 0.9918\n",
            "Epoch 37/50\n",
            "10/10 [==============================] - 0s 2ms/step - loss: 0.0293 - accuracy: 0.9918\n",
            "Epoch 38/50\n",
            "10/10 [==============================] - 0s 3ms/step - loss: 0.0296 - accuracy: 0.9918\n",
            "Epoch 39/50\n",
            "10/10 [==============================] - 0s 2ms/step - loss: 0.0319 - accuracy: 0.9918\n",
            "Epoch 40/50\n",
            "10/10 [==============================] - 0s 2ms/step - loss: 0.0294 - accuracy: 0.9918\n",
            "Epoch 41/50\n",
            "10/10 [==============================] - 0s 3ms/step - loss: 0.0465 - accuracy: 0.9835\n",
            "Epoch 42/50\n",
            "10/10 [==============================] - 0s 2ms/step - loss: 0.0525 - accuracy: 0.9725\n",
            "Epoch 43/50\n",
            "10/10 [==============================] - 0s 2ms/step - loss: 0.0328 - accuracy: 0.9918\n",
            "Epoch 44/50\n",
            "10/10 [==============================] - 0s 2ms/step - loss: 0.0342 - accuracy: 0.9918\n",
            "Epoch 45/50\n",
            "10/10 [==============================] - 0s 2ms/step - loss: 0.0302 - accuracy: 0.9918\n",
            "Epoch 46/50\n",
            "10/10 [==============================] - 0s 2ms/step - loss: 0.0295 - accuracy: 0.9918\n",
            "Epoch 47/50\n",
            "10/10 [==============================] - 0s 4ms/step - loss: 0.0293 - accuracy: 0.9918\n",
            "Epoch 48/50\n",
            "10/10 [==============================] - 0s 2ms/step - loss: 0.0293 - accuracy: 0.9918\n",
            "Epoch 49/50\n",
            "10/10 [==============================] - 0s 2ms/step - loss: 0.0291 - accuracy: 0.9918\n",
            "Epoch 50/50\n",
            "10/10 [==============================] - 0s 2ms/step - loss: 0.0291 - accuracy: 0.9918\n"
          ],
          "name": "stdout"
        }
      ]
    },
    {
      "cell_type": "code",
      "metadata": {
        "id": "-CPf8ryj5EAS"
      },
      "source": [
        ""
      ],
      "execution_count": null,
      "outputs": []
    },
    {
      "cell_type": "code",
      "metadata": {
        "id": "SAat-7Qy4uDm",
        "outputId": "b7379e99-e386-4982-ac22-e1dc1dd9832f",
        "colab": {
          "base_uri": "https://localhost:8080/",
          "height": 52
        }
      },
      "source": [
        "#acc on test data\n",
        "print(\"Test Data Accuracy\")\n",
        "acc = diabnet.evaluate(X_test,y_test)"
      ],
      "execution_count": null,
      "outputs": [
        {
          "output_type": "stream",
          "text": [
            "Test Data Accuracy\n",
            "5/5 [==============================] - 0s 2ms/step - loss: 0.2905 - accuracy: 0.9295\n"
          ],
          "name": "stdout"
        }
      ]
    },
    {
      "cell_type": "code",
      "metadata": {
        "id": "OpUFENgX48q3",
        "outputId": "2a5c0761-a961-4156-de84-92c6f0000d6e",
        "colab": {
          "base_uri": "https://localhost:8080/",
          "height": 1000
        }
      },
      "source": [
        "y_pred = diabnet.predict(X_test)\n",
        "print(y_pred)"
      ],
      "execution_count": null,
      "outputs": [
        {
          "output_type": "stream",
          "text": [
            "[[1.0000000e+00]\n",
            " [2.2896886e-02]\n",
            " [1.3172628e-05]\n",
            " [9.2274761e-01]\n",
            " [1.0000000e+00]\n",
            " [1.0000000e+00]\n",
            " [1.0000000e+00]\n",
            " [3.4421682e-03]\n",
            " [9.9927580e-01]\n",
            " [6.6516191e-02]\n",
            " [1.0000000e+00]\n",
            " [1.0000000e+00]\n",
            " [1.3172628e-05]\n",
            " [9.7919536e-01]\n",
            " [9.9990904e-01]\n",
            " [1.0000000e+00]\n",
            " [1.0000000e+00]\n",
            " [1.4951527e-03]\n",
            " [4.3495536e-02]\n",
            " [1.0000000e+00]\n",
            " [1.0000000e+00]\n",
            " [1.0000000e+00]\n",
            " [8.8047802e-02]\n",
            " [9.9973488e-01]\n",
            " [1.0000000e+00]\n",
            " [2.7809262e-02]\n",
            " [1.0000000e+00]\n",
            " [9.1255134e-07]\n",
            " [1.0117802e-01]\n",
            " [1.0000000e+00]\n",
            " [8.8047743e-02]\n",
            " [8.6463165e-01]\n",
            " [1.4134645e-03]\n",
            " [9.9980974e-01]\n",
            " [1.0000000e+00]\n",
            " [7.0976615e-03]\n",
            " [9.9998295e-01]\n",
            " [9.9999893e-01]\n",
            " [1.0000000e+00]\n",
            " [4.3165684e-04]\n",
            " [1.0000000e+00]\n",
            " [1.0000000e+00]\n",
            " [9.9949026e-01]\n",
            " [1.0000000e+00]\n",
            " [1.0000000e+00]\n",
            " [9.9999845e-01]\n",
            " [9.9871606e-01]\n",
            " [1.0000000e+00]\n",
            " [1.0000000e+00]\n",
            " [1.0000000e+00]\n",
            " [1.6836822e-03]\n",
            " [9.9990189e-01]\n",
            " [1.0000000e+00]\n",
            " [4.5329332e-04]\n",
            " [2.3405322e-05]\n",
            " [4.7138333e-04]\n",
            " [9.9996984e-01]\n",
            " [1.0000000e+00]\n",
            " [8.8825226e-03]\n",
            " [2.7809262e-02]\n",
            " [1.2106099e-05]\n",
            " [1.0000000e+00]\n",
            " [1.0000000e+00]\n",
            " [4.3495506e-02]\n",
            " [9.9973488e-01]\n",
            " [1.9524953e-06]\n",
            " [4.1472782e-07]\n",
            " [1.3172628e-05]\n",
            " [9.9999738e-01]\n",
            " [9.0536773e-01]\n",
            " [1.0000000e+00]\n",
            " [2.9461225e-06]\n",
            " [1.0000000e+00]\n",
            " [1.0000000e+00]\n",
            " [9.9998295e-01]\n",
            " [4.8386220e-05]\n",
            " [1.0000000e+00]\n",
            " [9.9976271e-01]\n",
            " [5.0305426e-03]\n",
            " [4.7138333e-04]\n",
            " [1.0000000e+00]\n",
            " [4.5329332e-04]\n",
            " [4.8386220e-05]\n",
            " [1.0000000e+00]\n",
            " [1.0000000e+00]\n",
            " [1.0000000e+00]\n",
            " [3.2904148e-03]\n",
            " [1.0000000e+00]\n",
            " [1.0000000e+00]\n",
            " [1.6836822e-03]\n",
            " [4.3495536e-02]\n",
            " [1.3271144e-01]\n",
            " [1.7681718e-04]\n",
            " [1.3271144e-01]\n",
            " [1.0000000e+00]\n",
            " [1.0000000e+00]\n",
            " [9.9990189e-01]\n",
            " [1.0000000e+00]\n",
            " [1.0000000e+00]\n",
            " [1.3271144e-01]\n",
            " [5.5526334e-01]\n",
            " [2.2896886e-02]\n",
            " [1.0000000e+00]\n",
            " [9.9917734e-01]\n",
            " [8.8047802e-02]\n",
            " [2.9461225e-06]\n",
            " [9.9999940e-01]\n",
            " [1.2153417e-02]\n",
            " [1.0000000e+00]\n",
            " [9.9973488e-01]\n",
            " [1.8136780e-06]\n",
            " [1.0000000e+00]\n",
            " [1.0000000e+00]\n",
            " [1.0000000e+00]\n",
            " [7.1701407e-04]\n",
            " [1.4134645e-03]\n",
            " [1.0000000e+00]\n",
            " [1.9800365e-03]\n",
            " [1.0000000e+00]\n",
            " [1.0000000e+00]\n",
            " [1.0000000e+00]\n",
            " [1.0000000e+00]\n",
            " [9.9949026e-01]\n",
            " [1.0000000e+00]\n",
            " [9.9997675e-01]\n",
            " [6.9424635e-01]\n",
            " [1.1601716e-01]\n",
            " [1.0000000e+00]\n",
            " [1.0000000e+00]\n",
            " [9.9999976e-01]\n",
            " [3.6832929e-02]\n",
            " [1.0000000e+00]\n",
            " [1.0022521e-03]\n",
            " [5.5519760e-02]\n",
            " [1.0000000e+00]\n",
            " [9.9999696e-01]\n",
            " [1.0000000e+00]\n",
            " [1.0000000e+00]\n",
            " [1.0000000e+00]\n",
            " [1.0000000e+00]\n",
            " [1.4134645e-03]\n",
            " [1.4134645e-03]\n",
            " [1.1227846e-02]\n",
            " [1.8136780e-06]\n",
            " [1.0000000e+00]\n",
            " [1.0000000e+00]\n",
            " [1.0000000e+00]\n",
            " [1.0000000e+00]\n",
            " [2.9424131e-03]\n",
            " [1.0000000e+00]\n",
            " [3.2300949e-03]\n",
            " [3.4421682e-03]\n",
            " [4.7138333e-04]\n",
            " [1.0000000e+00]\n",
            " [9.5951962e-01]\n",
            " [1.0000000e+00]]\n"
          ],
          "name": "stdout"
        }
      ]
    },
    {
      "cell_type": "code",
      "metadata": {
        "id": "BNItLvOn5g9T",
        "outputId": "6e2873d1-117c-40b4-9963-108f45613fb9",
        "colab": {
          "base_uri": "https://localhost:8080/",
          "height": 34
        }
      },
      "source": [
        "#sample input\n",
        "inp = np.array([40,0,0,1,0,1,0,0,0,1,0,1,0,1,1,1])\n",
        "i = np.expand_dims(inp,axis=0)\n",
        "pred = diabnet.predict(i)\n",
        "\n",
        "\n",
        "print(pred)\n"
      ],
      "execution_count": null,
      "outputs": [
        {
          "output_type": "stream",
          "text": [
            "[[0.00958309]]\n"
          ],
          "name": "stdout"
        }
      ]
    },
    {
      "cell_type": "code",
      "metadata": {
        "id": "izQN-5vr66Bn"
      },
      "source": [
        "58,0,0,0,0,1,0,0,1,0,0,0,1,0,1,0"
      ],
      "execution_count": null,
      "outputs": []
    }
  ]
}