{
 "cells": [
  {
   "cell_type": "code",
   "execution_count": 2,
   "metadata": {},
   "outputs": [],
   "source": [
    "import numpy as np\n",
    "import matplotlib.pyplot as plt\n",
    "import pandas as pd \n",
    "import seaborn as sns\n",
    "from sklearn.feature_extraction.text import TfidfVectorizer\n",
    "from sklearn.metrics.pairwise import linear_kernel\n",
    "from tqdm import tqdm"
   ]
  },
  {
   "cell_type": "code",
   "execution_count": 3,
   "metadata": {},
   "outputs": [
    {
     "data": {
      "text/html": [
       "<div>\n",
       "<style scoped>\n",
       "    .dataframe tbody tr th:only-of-type {\n",
       "        vertical-align: middle;\n",
       "    }\n",
       "\n",
       "    .dataframe tbody tr th {\n",
       "        vertical-align: top;\n",
       "    }\n",
       "\n",
       "    .dataframe thead th {\n",
       "        text-align: right;\n",
       "    }\n",
       "</style>\n",
       "<table border=\"1\" class=\"dataframe\">\n",
       "  <thead>\n",
       "    <tr style=\"text-align: right;\">\n",
       "      <th></th>\n",
       "      <th>blog_id</th>\n",
       "      <th>author_id</th>\n",
       "      <th>blog_title</th>\n",
       "      <th>blog_content</th>\n",
       "      <th>blog_link</th>\n",
       "      <th>blog_img</th>\n",
       "      <th>topic</th>\n",
       "      <th>scrape_time</th>\n",
       "    </tr>\n",
       "  </thead>\n",
       "  <tbody>\n",
       "    <tr>\n",
       "      <th>0</th>\n",
       "      <td>1</td>\n",
       "      <td>4</td>\n",
       "      <td>Let’s Dominate The Launchpad Space Again</td>\n",
       "      <td>Hello, fam! If you’ve been with us since 2021,...</td>\n",
       "      <td>https://medium.com/@seedifyfund/lets-dominate-...</td>\n",
       "      <td>https://miro.medium.com/fit/c/140/140/1*nByLJr...</td>\n",
       "      <td>ai</td>\n",
       "      <td>2023-02-27 07:37:48</td>\n",
       "    </tr>\n",
       "    <tr>\n",
       "      <th>1</th>\n",
       "      <td>3</td>\n",
       "      <td>4</td>\n",
       "      <td>Let’s Dominate The Launchpad Space Again</td>\n",
       "      <td>Hello, fam! If you’ve been with us since 2021,...</td>\n",
       "      <td>https://medium.com/@seedifyfund/lets-dominate-...</td>\n",
       "      <td>https://miro.medium.com/fit/c/140/140/1*nByLJr...</td>\n",
       "      <td>ai</td>\n",
       "      <td>2023-02-27 07:41:47</td>\n",
       "    </tr>\n",
       "    <tr>\n",
       "      <th>2</th>\n",
       "      <td>4</td>\n",
       "      <td>7</td>\n",
       "      <td>Using ChatGPT for User Research</td>\n",
       "      <td>Applying AI to 4 common user research activiti...</td>\n",
       "      <td>https://medium.com/ux-planet/using-chatgpt-for...</td>\n",
       "      <td>https://miro.medium.com/fit/c/140/140/1*TZSGnN...</td>\n",
       "      <td>ai</td>\n",
       "      <td>2023-02-27 07:41:47</td>\n",
       "    </tr>\n",
       "    <tr>\n",
       "      <th>3</th>\n",
       "      <td>5</td>\n",
       "      <td>8</td>\n",
       "      <td>The Automated Stable-Diffusion Checkpoint Merg...</td>\n",
       "      <td>Checkpoint merging is powerful. The power of c...</td>\n",
       "      <td>https://medium.com/@media_97267/the-automated-...</td>\n",
       "      <td>https://miro.medium.com/fit/c/140/140/1*x3N_Hj...</td>\n",
       "      <td>ai</td>\n",
       "      <td>2023-02-27 07:41:47</td>\n",
       "    </tr>\n",
       "    <tr>\n",
       "      <th>4</th>\n",
       "      <td>6</td>\n",
       "      <td>9</td>\n",
       "      <td>The Art of Lazy Creativity: My Experience Co-W...</td>\n",
       "      <td>I was feeling particularly lazy one day and co...</td>\n",
       "      <td>https://medium.com/@digitalshedmedia/the-art-o...</td>\n",
       "      <td>https://miro.medium.com/fit/c/140/140/0*m2DdeT...</td>\n",
       "      <td>ai</td>\n",
       "      <td>2023-02-27 07:41:47</td>\n",
       "    </tr>\n",
       "  </tbody>\n",
       "</table>\n",
       "</div>"
      ],
      "text/plain": [
       "   blog_id  author_id                                         blog_title  \\\n",
       "0        1          4           Let’s Dominate The Launchpad Space Again   \n",
       "1        3          4           Let’s Dominate The Launchpad Space Again   \n",
       "2        4          7                    Using ChatGPT for User Research   \n",
       "3        5          8  The Automated Stable-Diffusion Checkpoint Merg...   \n",
       "4        6          9  The Art of Lazy Creativity: My Experience Co-W...   \n",
       "\n",
       "                                        blog_content  \\\n",
       "0  Hello, fam! If you’ve been with us since 2021,...   \n",
       "1  Hello, fam! If you’ve been with us since 2021,...   \n",
       "2  Applying AI to 4 common user research activiti...   \n",
       "3  Checkpoint merging is powerful. The power of c...   \n",
       "4  I was feeling particularly lazy one day and co...   \n",
       "\n",
       "                                           blog_link  \\\n",
       "0  https://medium.com/@seedifyfund/lets-dominate-...   \n",
       "1  https://medium.com/@seedifyfund/lets-dominate-...   \n",
       "2  https://medium.com/ux-planet/using-chatgpt-for...   \n",
       "3  https://medium.com/@media_97267/the-automated-...   \n",
       "4  https://medium.com/@digitalshedmedia/the-art-o...   \n",
       "\n",
       "                                            blog_img topic  \\\n",
       "0  https://miro.medium.com/fit/c/140/140/1*nByLJr...    ai   \n",
       "1  https://miro.medium.com/fit/c/140/140/1*nByLJr...    ai   \n",
       "2  https://miro.medium.com/fit/c/140/140/1*TZSGnN...    ai   \n",
       "3  https://miro.medium.com/fit/c/140/140/1*x3N_Hj...    ai   \n",
       "4  https://miro.medium.com/fit/c/140/140/0*m2DdeT...    ai   \n",
       "\n",
       "           scrape_time  \n",
       "0  2023-02-27 07:37:48  \n",
       "1  2023-02-27 07:41:47  \n",
       "2  2023-02-27 07:41:47  \n",
       "3  2023-02-27 07:41:47  \n",
       "4  2023-02-27 07:41:47  "
      ]
     },
     "execution_count": 3,
     "metadata": {},
     "output_type": "execute_result"
    }
   ],
   "source": [
    "df1 = pd.read_csv('Blog Ratings.csv')\n",
    "df2 = pd.read_csv('Medium Blog Data.csv')\n",
    "df2.head()"
   ]
  },
  {
   "cell_type": "code",
   "execution_count": 31,
   "metadata": {},
   "outputs": [],
   "source": [
    "#Merge the two dataframes above to create input dataframe for recommender systems\n",
    "df = pd.merge(df1, df2, on='blog_id')"
   ]
  },
  {
   "cell_type": "code",
   "execution_count": 32,
   "metadata": {},
   "outputs": [
    {
     "data": {
      "text/html": [
       "<div>\n",
       "<style scoped>\n",
       "    .dataframe tbody tr th:only-of-type {\n",
       "        vertical-align: middle;\n",
       "    }\n",
       "\n",
       "    .dataframe tbody tr th {\n",
       "        vertical-align: top;\n",
       "    }\n",
       "\n",
       "    .dataframe thead th {\n",
       "        text-align: right;\n",
       "    }\n",
       "</style>\n",
       "<table border=\"1\" class=\"dataframe\">\n",
       "  <thead>\n",
       "    <tr style=\"text-align: right;\">\n",
       "      <th></th>\n",
       "      <th>blog_id</th>\n",
       "      <th>userId</th>\n",
       "      <th>ratings</th>\n",
       "      <th>author_id</th>\n",
       "      <th>blog_title</th>\n",
       "      <th>blog_content</th>\n",
       "      <th>blog_link</th>\n",
       "      <th>blog_img</th>\n",
       "      <th>topic</th>\n",
       "      <th>scrape_time</th>\n",
       "    </tr>\n",
       "  </thead>\n",
       "  <tbody>\n",
       "    <tr>\n",
       "      <th>0</th>\n",
       "      <td>9025</td>\n",
       "      <td>11</td>\n",
       "      <td>3.5</td>\n",
       "      <td>5960</td>\n",
       "      <td>How I became a Frontend Developer</td>\n",
       "      <td>A little bit of background about me: as a teen...</td>\n",
       "      <td>https://medium.com/@steven.dornan93/how-i-beca...</td>\n",
       "      <td>https://miro.medium.com/v2/resize:fill:140:140...</td>\n",
       "      <td>web-development</td>\n",
       "      <td>2023-04-04 08:53:52</td>\n",
       "    </tr>\n",
       "    <tr>\n",
       "      <th>1</th>\n",
       "      <td>9025</td>\n",
       "      <td>38</td>\n",
       "      <td>3.5</td>\n",
       "      <td>5960</td>\n",
       "      <td>How I became a Frontend Developer</td>\n",
       "      <td>A little bit of background about me: as a teen...</td>\n",
       "      <td>https://medium.com/@steven.dornan93/how-i-beca...</td>\n",
       "      <td>https://miro.medium.com/v2/resize:fill:140:140...</td>\n",
       "      <td>web-development</td>\n",
       "      <td>2023-04-04 08:53:52</td>\n",
       "    </tr>\n",
       "    <tr>\n",
       "      <th>2</th>\n",
       "      <td>9025</td>\n",
       "      <td>253</td>\n",
       "      <td>5.0</td>\n",
       "      <td>5960</td>\n",
       "      <td>How I became a Frontend Developer</td>\n",
       "      <td>A little bit of background about me: as a teen...</td>\n",
       "      <td>https://medium.com/@steven.dornan93/how-i-beca...</td>\n",
       "      <td>https://miro.medium.com/v2/resize:fill:140:140...</td>\n",
       "      <td>web-development</td>\n",
       "      <td>2023-04-04 08:53:52</td>\n",
       "    </tr>\n",
       "    <tr>\n",
       "      <th>3</th>\n",
       "      <td>9025</td>\n",
       "      <td>385</td>\n",
       "      <td>0.5</td>\n",
       "      <td>5960</td>\n",
       "      <td>How I became a Frontend Developer</td>\n",
       "      <td>A little bit of background about me: as a teen...</td>\n",
       "      <td>https://medium.com/@steven.dornan93/how-i-beca...</td>\n",
       "      <td>https://miro.medium.com/v2/resize:fill:140:140...</td>\n",
       "      <td>web-development</td>\n",
       "      <td>2023-04-04 08:53:52</td>\n",
       "    </tr>\n",
       "    <tr>\n",
       "      <th>4</th>\n",
       "      <td>9025</td>\n",
       "      <td>394</td>\n",
       "      <td>3.5</td>\n",
       "      <td>5960</td>\n",
       "      <td>How I became a Frontend Developer</td>\n",
       "      <td>A little bit of background about me: as a teen...</td>\n",
       "      <td>https://medium.com/@steven.dornan93/how-i-beca...</td>\n",
       "      <td>https://miro.medium.com/v2/resize:fill:140:140...</td>\n",
       "      <td>web-development</td>\n",
       "      <td>2023-04-04 08:53:52</td>\n",
       "    </tr>\n",
       "  </tbody>\n",
       "</table>\n",
       "</div>"
      ],
      "text/plain": [
       "   blog_id  userId  ratings  author_id                         blog_title  \\\n",
       "0     9025      11      3.5       5960  How I became a Frontend Developer   \n",
       "1     9025      38      3.5       5960  How I became a Frontend Developer   \n",
       "2     9025     253      5.0       5960  How I became a Frontend Developer   \n",
       "3     9025     385      0.5       5960  How I became a Frontend Developer   \n",
       "4     9025     394      3.5       5960  How I became a Frontend Developer   \n",
       "\n",
       "                                        blog_content  \\\n",
       "0  A little bit of background about me: as a teen...   \n",
       "1  A little bit of background about me: as a teen...   \n",
       "2  A little bit of background about me: as a teen...   \n",
       "3  A little bit of background about me: as a teen...   \n",
       "4  A little bit of background about me: as a teen...   \n",
       "\n",
       "                                           blog_link  \\\n",
       "0  https://medium.com/@steven.dornan93/how-i-beca...   \n",
       "1  https://medium.com/@steven.dornan93/how-i-beca...   \n",
       "2  https://medium.com/@steven.dornan93/how-i-beca...   \n",
       "3  https://medium.com/@steven.dornan93/how-i-beca...   \n",
       "4  https://medium.com/@steven.dornan93/how-i-beca...   \n",
       "\n",
       "                                            blog_img            topic  \\\n",
       "0  https://miro.medium.com/v2/resize:fill:140:140...  web-development   \n",
       "1  https://miro.medium.com/v2/resize:fill:140:140...  web-development   \n",
       "2  https://miro.medium.com/v2/resize:fill:140:140...  web-development   \n",
       "3  https://miro.medium.com/v2/resize:fill:140:140...  web-development   \n",
       "4  https://miro.medium.com/v2/resize:fill:140:140...  web-development   \n",
       "\n",
       "           scrape_time  \n",
       "0  2023-04-04 08:53:52  \n",
       "1  2023-04-04 08:53:52  \n",
       "2  2023-04-04 08:53:52  \n",
       "3  2023-04-04 08:53:52  \n",
       "4  2023-04-04 08:53:52  "
      ]
     },
     "execution_count": 32,
     "metadata": {},
     "output_type": "execute_result"
    }
   ],
   "source": [
    "df.head()"
   ]
  },
  {
   "cell_type": "code",
   "execution_count": 36,
   "metadata": {},
   "outputs": [],
   "source": [
    "df1 = df.copy()"
   ]
  },
  {
   "cell_type": "code",
   "execution_count": 37,
   "metadata": {},
   "outputs": [],
   "source": [
    "#drop duplicates\n",
    "df.drop_duplicates(subset =\"blog_id\", keep = 'first', inplace = True)"
   ]
  },
  {
   "cell_type": "code",
   "execution_count": 38,
   "metadata": {},
   "outputs": [
    {
     "data": {
      "text/html": [
       "<div>\n",
       "<style scoped>\n",
       "    .dataframe tbody tr th:only-of-type {\n",
       "        vertical-align: middle;\n",
       "    }\n",
       "\n",
       "    .dataframe tbody tr th {\n",
       "        vertical-align: top;\n",
       "    }\n",
       "\n",
       "    .dataframe thead th {\n",
       "        text-align: right;\n",
       "    }\n",
       "</style>\n",
       "<table border=\"1\" class=\"dataframe\">\n",
       "  <thead>\n",
       "    <tr style=\"text-align: right;\">\n",
       "      <th></th>\n",
       "      <th>blog_id</th>\n",
       "      <th>userId</th>\n",
       "      <th>ratings</th>\n",
       "      <th>author_id</th>\n",
       "      <th>blog_title</th>\n",
       "      <th>blog_content</th>\n",
       "      <th>blog_link</th>\n",
       "      <th>blog_img</th>\n",
       "      <th>topic</th>\n",
       "      <th>scrape_time</th>\n",
       "    </tr>\n",
       "  </thead>\n",
       "  <tbody>\n",
       "    <tr>\n",
       "      <th>0</th>\n",
       "      <td>9025</td>\n",
       "      <td>11</td>\n",
       "      <td>3.5</td>\n",
       "      <td>5960</td>\n",
       "      <td>How I became a Frontend Developer</td>\n",
       "      <td>A little bit of background about me: as a teen...</td>\n",
       "      <td>https://medium.com/@steven.dornan93/how-i-beca...</td>\n",
       "      <td>https://miro.medium.com/v2/resize:fill:140:140...</td>\n",
       "      <td>web-development</td>\n",
       "      <td>2023-04-04 08:53:52</td>\n",
       "    </tr>\n",
       "    <tr>\n",
       "      <th>38</th>\n",
       "      <td>9320</td>\n",
       "      <td>11</td>\n",
       "      <td>5.0</td>\n",
       "      <td>6155</td>\n",
       "      <td>Writing an Algorithm to Calculate Article Read...</td>\n",
       "      <td>You have probably noticed a read-time number u...</td>\n",
       "      <td>https://medium.com/@dpericich/writing-an-algor...</td>\n",
       "      <td>https://miro.medium.com/v2/resize:fill:140:140...</td>\n",
       "      <td>web-development</td>\n",
       "      <td>2023-04-04 08:53:52</td>\n",
       "    </tr>\n",
       "    <tr>\n",
       "      <th>78</th>\n",
       "      <td>9246</td>\n",
       "      <td>11</td>\n",
       "      <td>3.5</td>\n",
       "      <td>6114</td>\n",
       "      <td>Diving into HTML and the Tools of the Trade</td>\n",
       "      <td>It’s been an incredible first week as a Bytewi...</td>\n",
       "      <td>https://medium.com/@muhammadnaeemtahir/diving-...</td>\n",
       "      <td>https://miro.medium.com/v2/resize:fill:140:140...</td>\n",
       "      <td>web-development</td>\n",
       "      <td>2023-04-04 08:53:52</td>\n",
       "    </tr>\n",
       "    <tr>\n",
       "      <th>114</th>\n",
       "      <td>9431</td>\n",
       "      <td>11</td>\n",
       "      <td>5.0</td>\n",
       "      <td>2386</td>\n",
       "      <td>Learning Too Many Programming Languages at Once?</td>\n",
       "      <td>Learning too many programming languages at onc...</td>\n",
       "      <td>https://medium.com/@mohit-singh/learning-too-m...</td>\n",
       "      <td>https://miro.medium.com/v2/resize:fill:140:140...</td>\n",
       "      <td>web-development</td>\n",
       "      <td>2023-04-04 08:53:52</td>\n",
       "    </tr>\n",
       "    <tr>\n",
       "      <th>139</th>\n",
       "      <td>875</td>\n",
       "      <td>11</td>\n",
       "      <td>2.0</td>\n",
       "      <td>699</td>\n",
       "      <td>Cryptocurrency Regulations: A Tug of War Betwe...</td>\n",
       "      <td>Once upon a time in the wild, wild world of cr...</td>\n",
       "      <td>https://medium.com/@Juan_In_The_Chain/cryptocu...</td>\n",
       "      <td>https://miro.medium.com/v2/resize:fill:140:140...</td>\n",
       "      <td>blockchain</td>\n",
       "      <td>2023-04-03 06:06:20</td>\n",
       "    </tr>\n",
       "  </tbody>\n",
       "</table>\n",
       "</div>"
      ],
      "text/plain": [
       "     blog_id  userId  ratings  author_id  \\\n",
       "0       9025      11      3.5       5960   \n",
       "38      9320      11      5.0       6155   \n",
       "78      9246      11      3.5       6114   \n",
       "114     9431      11      5.0       2386   \n",
       "139      875      11      2.0        699   \n",
       "\n",
       "                                            blog_title  \\\n",
       "0                    How I became a Frontend Developer   \n",
       "38   Writing an Algorithm to Calculate Article Read...   \n",
       "78         Diving into HTML and the Tools of the Trade   \n",
       "114   Learning Too Many Programming Languages at Once?   \n",
       "139  Cryptocurrency Regulations: A Tug of War Betwe...   \n",
       "\n",
       "                                          blog_content  \\\n",
       "0    A little bit of background about me: as a teen...   \n",
       "38   You have probably noticed a read-time number u...   \n",
       "78   It’s been an incredible first week as a Bytewi...   \n",
       "114  Learning too many programming languages at onc...   \n",
       "139  Once upon a time in the wild, wild world of cr...   \n",
       "\n",
       "                                             blog_link  \\\n",
       "0    https://medium.com/@steven.dornan93/how-i-beca...   \n",
       "38   https://medium.com/@dpericich/writing-an-algor...   \n",
       "78   https://medium.com/@muhammadnaeemtahir/diving-...   \n",
       "114  https://medium.com/@mohit-singh/learning-too-m...   \n",
       "139  https://medium.com/@Juan_In_The_Chain/cryptocu...   \n",
       "\n",
       "                                              blog_img            topic  \\\n",
       "0    https://miro.medium.com/v2/resize:fill:140:140...  web-development   \n",
       "38   https://miro.medium.com/v2/resize:fill:140:140...  web-development   \n",
       "78   https://miro.medium.com/v2/resize:fill:140:140...  web-development   \n",
       "114  https://miro.medium.com/v2/resize:fill:140:140...  web-development   \n",
       "139  https://miro.medium.com/v2/resize:fill:140:140...       blockchain   \n",
       "\n",
       "             scrape_time  \n",
       "0    2023-04-04 08:53:52  \n",
       "38   2023-04-04 08:53:52  \n",
       "78   2023-04-04 08:53:52  \n",
       "114  2023-04-04 08:53:52  \n",
       "139  2023-04-03 06:06:20  "
      ]
     },
     "execution_count": 38,
     "metadata": {},
     "output_type": "execute_result"
    }
   ],
   "source": [
    "df.head()"
   ]
  },
  {
   "cell_type": "code",
   "execution_count": 39,
   "metadata": {},
   "outputs": [
    {
     "data": {
      "text/plain": [
       "Index(['blog_id', 'userId', 'ratings', 'author_id', 'blog_title',\n",
       "       'blog_content', 'blog_link', 'blog_img', 'topic', 'scrape_time'],\n",
       "      dtype='object')"
      ]
     },
     "execution_count": 39,
     "metadata": {},
     "output_type": "execute_result"
    }
   ],
   "source": [
    "df.columns"
   ]
  },
  {
   "cell_type": "code",
   "execution_count": 40,
   "metadata": {},
   "outputs": [
    {
     "data": {
      "text/plain": [
       "<AxesSubplot: xlabel='count', ylabel='topic'>"
      ]
     },
     "execution_count": 40,
     "metadata": {},
     "output_type": "execute_result"
    },
    {
     "data": {
      "image/png": "[encoded data removed]",
      "text/plain": [
       "<Figure size 640x480 with 1 Axes>"
      ]
     },
     "metadata": {},
     "output_type": "display_data"
    }
   ],
   "source": [
    "sns.countplot(y='topic',data=df)"
   ]
  },
  {
   "cell_type": "code",
   "execution_count": 41,
   "metadata": {},
   "outputs": [],
   "source": [
    "topics = df['topic'].to_list()"
   ]
  },
  {
   "cell_type": "code",
   "execution_count": 42,
   "metadata": {},
   "outputs": [],
   "source": [
    "tfid_vect = TfidfVectorizer(stop_words='english')\n",
    "tfid_matrix = tfid_vect.fit_transform(topics)"
   ]
  },
  {
   "cell_type": "code",
   "execution_count": 43,
   "metadata": {},
   "outputs": [],
   "source": [
    "cosine_sim = linear_kernel(tfid_matrix, tfid_matrix)"
   ]
  },
  {
   "cell_type": "code",
   "execution_count": 56,
   "metadata": {},
   "outputs": [],
   "source": [
    "#get recommendations based on genre\n",
    "def get_recommendations(title, cosine_sim=cosine_sim):\n",
    "    # Get the index of the movie that matches the title\n",
    "    idx = df[df['topic'] == title].index[0]\n",
    "\n",
    "    # Get the pairwsie similarity scores of all movies with that movie\n",
    "    sim_scores = list(enumerate(cosine_sim[idx]))\n",
    "\n",
    "    # Sort the movies based on the similarity scores\n",
    "    sim_scores = sorted(sim_scores, key=lambda x: x[1], reverse=True)\n",
    "    \n",
    "    # Get the scores of the 5 most similar movies\n",
    "    sim_scores = sim_scores[:1]\n",
    "\n",
    "    # Get the movie indices\n",
    "    blog_indices = [i[0] for i in sim_scores]\n",
    "\n",
    "    # Return the top 5 most similar movies\n",
    "    return df.iloc[blog_indices]"
   ]
  },
  {
   "cell_type": "code",
   "execution_count": null,
   "metadata": {},
   "outputs": [],
   "source": [
    "user_input = input(\"Enter a topic: \")\n",
    "print('Generating recommendations for you based on the topic: ', user_input)\n",
    "get_recommendations(user_input)"
   ]
  },
  {
   "cell_type": "code",
   "execution_count": 41,
   "metadata": {},
   "outputs": [],
   "source": [
    "#Try with CLIP model\n",
    "from transformers import BertTokenizer, BertModel\n",
    "import torch"
   ]
  },
  {
   "cell_type": "code",
   "execution_count": 52,
   "metadata": {},
   "outputs": [],
   "source": [
    "device = torch.device(\"cuda\" if torch.cuda.is_available() else \"cpu\")"
   ]
  },
  {
   "cell_type": "code",
   "execution_count": 53,
   "metadata": {},
   "outputs": [
    {
     "name": "stderr",
     "output_type": "stream",
     "text": [
      "Some weights of the model checkpoint at bert-base-uncased were not used when initializing BertModel: ['cls.seq_relationship.bias', 'cls.predictions.bias', 'cls.predictions.transform.dense.weight', 'cls.predictions.transform.LayerNorm.bias', 'cls.predictions.decoder.weight', 'cls.seq_relationship.weight', 'cls.predictions.transform.dense.bias', 'cls.predictions.transform.LayerNorm.weight']\n",
      "- This IS expected if you are initializing BertModel from the checkpoint of a model trained on another task or with another architecture (e.g. initializing a BertForSequenceClassification model from a BertForPreTraining model).\n",
      "- This IS NOT expected if you are initializing BertModel from the checkpoint of a model that you expect to be exactly identical (initializing a BertForSequenceClassification model from a BertForSequenceClassification model).\n"
     ]
    }
   ],
   "source": [
    "model = BertModel.from_pretrained('bert-base-uncased').to(device)\n",
    "tokenizer = BertTokenizer.from_pretrained('bert-base-uncased')"
   ]
  },
  {
   "cell_type": "code",
   "execution_count": 63,
   "metadata": {},
   "outputs": [],
   "source": [
    "def embed_text(texts, batch_size=32):\n",
    "    embeddings = []\n",
    "    # Create a progress bar\n",
    "    progress_bar = tqdm(range(0, len(texts), batch_size), desc=\"Processing text batches\")\n",
    "    \n",
    "    for start_index in progress_bar:\n",
    "        # Select batch of text\n",
    "        end_index = start_index + batch_size\n",
    "        batch_texts = texts[start_index:end_index]\n",
    "\n",
    "        # Tokenize and encode the batch\n",
    "        inputs = tokenizer(batch_texts, return_tensors=\"pt\", padding=True, truncation=True, max_length=512)\n",
    "        \n",
    "        # Move input tensors to the same device as the model\n",
    "        inputs = {name: tensor.to(device) for name, tensor in inputs.items()}\n",
    "        \n",
    "        # Get the embeddings\n",
    "        with torch.no_grad():\n",
    "            outputs = model(**inputs)\n",
    "        # Use the average of the last hidden state as the embedding\n",
    "        batch_embeddings = outputs['last_hidden_state'].mean(dim=1).cpu()  # move to CPU here\n",
    "        embeddings.append(batch_embeddings)\n",
    "        \n",
    "    # Concatenate all the embeddings\n",
    "    embeddings = torch.cat(embeddings, dim=0)\n",
    "    \n",
    "    return embeddings  # Now embeddings is on CPU"
   ]
  },
  {
   "cell_type": "code",
   "execution_count": 64,
   "metadata": {},
   "outputs": [],
   "source": [
    "df['blog_content'] = df['blog_content'].astype(str)"
   ]
  },
  {
   "cell_type": "code",
   "execution_count": 66,
   "metadata": {},
   "outputs": [],
   "source": [
    "content = df['blog_content'].to_list()"
   ]
  },
  {
   "cell_type": "code",
   "execution_count": 67,
   "metadata": {},
   "outputs": [
    {
     "name": "stderr",
     "output_type": "stream",
     "text": [
      "Processing text batches: 100%|██████████| 304/304 [00:28<00:00, 10.76it/s]\n"
     ]
    }
   ],
   "source": [
    "embeddings = embed_text(content, batch_size=32)"
   ]
  },
  {
   "cell_type": "code",
   "execution_count": 69,
   "metadata": {},
   "outputs": [],
   "source": [
    "from sklearn.metrics.pairwise import cosine_similarity\n",
    "from sklearn.neighbors import NearestNeighbors"
   ]
  },
  {
   "cell_type": "code",
   "execution_count": 77,
   "metadata": {},
   "outputs": [],
   "source": [
    "nbrs = NearestNeighbors(n_neighbors=5, metric='cosine').fit(embeddings)"
   ]
  },
  {
   "cell_type": "code",
   "execution_count": 101,
   "metadata": {},
   "outputs": [],
   "source": [
    "def get_recommendations_by_query(query, nbrs_model, tokenizer, bert_model, n_recommendations=5):\n",
    "    # Embed the input query\n",
    "    query_embedding = embed_text([query],batch_size=1)\n",
    "    \n",
    "    \n",
    "    # Get nearest neighbors\n",
    "    distances, indices = nbrs_model.kneighbors(query_embedding)\n",
    "    \n",
    "    # Remove the first element if it's the query itself\n",
    "    recommended_indices = indices[0]\n",
    "    \n",
    "    #n recommendations\n",
    "    recommended_indices = recommended_indices[:n_recommendations]\n",
    "\n",
    "    # Get the titles of the recommended blogs\n",
    "    title = df.iloc[recommended_indices]['blog_title']\n",
    "    topic = df.iloc[recommended_indices]['topic']\n",
    "    rating = df.iloc[recommended_indices]['ratings']\n",
    "\n",
    "    #create a dataframe\n",
    "    df1 = pd.DataFrame({'title':title, 'topic':topic,'ratings':rating},index=None)\n",
    "    df1 = df1.sort_values(by='ratings', ascending=False)\n",
    "\n",
    "    # Return the top_n most similar blogs\n",
    "    return df1.head(n_recommendations)"
   ]
  },
  {
   "cell_type": "code",
   "execution_count": 103,
   "metadata": {},
   "outputs": [
    {
     "name": "stdout",
     "output_type": "stream",
     "text": [
      "Generating recommendations for you based on the query:  cryptocurrency and blockchain\n"
     ]
    },
    {
     "name": "stderr",
     "output_type": "stream",
     "text": [
      "Processing text batches: 100%|██████████| 1/1 [00:00<00:00, 32.26it/s]\n"
     ]
    },
    {
     "data": {
      "text/html": [
       "<div>\n",
       "<style scoped>\n",
       "    .dataframe tbody tr th:only-of-type {\n",
       "        vertical-align: middle;\n",
       "    }\n",
       "\n",
       "    .dataframe tbody tr th {\n",
       "        vertical-align: top;\n",
       "    }\n",
       "\n",
       "    .dataframe thead th {\n",
       "        text-align: right;\n",
       "    }\n",
       "</style>\n",
       "<table border=\"1\" class=\"dataframe\">\n",
       "  <thead>\n",
       "    <tr style=\"text-align: right;\">\n",
       "      <th></th>\n",
       "      <th>title</th>\n",
       "      <th>topic</th>\n",
       "      <th>ratings</th>\n",
       "    </tr>\n",
       "  </thead>\n",
       "  <tbody>\n",
       "    <tr>\n",
       "      <th>109890</th>\n",
       "      <td>Top 6 Crypto Exchange/trading platforms in Ind...</td>\n",
       "      <td>blockchain</td>\n",
       "      <td>5.0</td>\n",
       "    </tr>\n",
       "    <tr>\n",
       "      <th>193438</th>\n",
       "      <td>How to increase the Probability that your Cryp...</td>\n",
       "      <td>blockchain</td>\n",
       "      <td>5.0</td>\n",
       "    </tr>\n",
       "    <tr>\n",
       "      <th>189653</th>\n",
       "      <td>How Can Features of Blockchain Support Sustain...</td>\n",
       "      <td>blockchain</td>\n",
       "      <td>5.0</td>\n",
       "    </tr>\n",
       "    <tr>\n",
       "      <th>114281</th>\n",
       "      <td>“Exploring the Potential of Programmable NFTs ...</td>\n",
       "      <td>Cryptocurrency</td>\n",
       "      <td>5.0</td>\n",
       "    </tr>\n",
       "    <tr>\n",
       "      <th>170219</th>\n",
       "      <td>Introducing MarketDex: Revolutionizing the Way...</td>\n",
       "      <td>blockchain</td>\n",
       "      <td>2.0</td>\n",
       "    </tr>\n",
       "  </tbody>\n",
       "</table>\n",
       "</div>"
      ],
      "text/plain": [
       "                                                    title           topic  \\\n",
       "109890  Top 6 Crypto Exchange/trading platforms in Ind...      blockchain   \n",
       "193438  How to increase the Probability that your Cryp...      blockchain   \n",
       "189653  How Can Features of Blockchain Support Sustain...      blockchain   \n",
       "114281  “Exploring the Potential of Programmable NFTs ...  Cryptocurrency   \n",
       "170219  Introducing MarketDex: Revolutionizing the Way...      blockchain   \n",
       "\n",
       "        ratings  \n",
       "109890      5.0  \n",
       "193438      5.0  \n",
       "189653      5.0  \n",
       "114281      5.0  \n",
       "170219      2.0  "
      ]
     },
     "execution_count": 103,
     "metadata": {},
     "output_type": "execute_result"
    }
   ],
   "source": [
    "user_query = input(\"Enter a query: \")\n",
    "print('Generating recommendations for you based on the query: ', user_query)\n",
    "get_recommendations_by_query(user_query, nbrs, tokenizer, model, n_recommendations=10)"
   ]
  },
  {
   "cell_type": "code",
   "execution_count": null,
   "metadata": {},
   "outputs": [],
   "source": []
  }
 ],
 "metadata": {
  "kernelspec": {
   "display_name": "working",
   "language": "python",
   "name": "python3"
  },
  "language_info": {
   "codemirror_mode": {
    "name": "ipython",
    "version": 3
   },
   "file_extension": ".py",
   "mimetype": "text/x-python",
   "name": "python",
   "nbconvert_exporter": "python",
   "pygments_lexer": "ipython3",
   "version": "3.9.15"
  },
  "orig_nbformat": 4
 },
 "nbformat": 4,
 "nbformat_minor": 2
}
